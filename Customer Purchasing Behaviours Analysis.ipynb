{
 "cells": [
  {
   "cell_type": "markdown",
   "metadata": {
    "id": "iR7D1lfmYzBi"
   },
   "source": [
    "# **BAMA 517 Marketing Capstone Project**\n",
    "Alisa Wu, Christi Mariam, Gagandeep Singh, Shivang Gulati, Young Ji Tuen"
   ]
  },
  {
   "cell_type": "code",
   "execution_count": 3,
   "metadata": {
    "executionInfo": {
     "elapsed": 148,
     "status": "ok",
     "timestamp": 1704505603181,
     "user": {
      "displayName": "CHRISTI MARIAM DENNY",
      "userId": "07385360295014298325"
     },
     "user_tz": 480
    },
    "id": "d-AryTRQY_Tm"
   },
   "outputs": [],
   "source": [
    "# Import required packages\n",
    "import pandas as pd\n",
    "import re\n",
    "import matplotlib.pyplot as plt\n",
    "import seaborn as sns\n",
    "import numpy as np\n",
    "import statsmodels.api as sm\n",
    "from statsmodels.formula.api import ols\n",
    "from sklearn.decomposition import PCA\n",
    "from sklearn.preprocessing import StandardScaler\n",
    "\n",
    "# Ignore future warnings\n",
    "import warnings\n",
    "warnings.simplefilter(action='ignore', category=FutureWarning)"
   ]
  },
  {
   "cell_type": "markdown",
   "metadata": {
    "id": "wFhawDzJxsEH"
   },
   "source": [
    "# **Background**"
   ]
  },
  {
   "cell_type": "markdown",
   "metadata": {
    "id": "KcIxWEeHYW3k"
   },
   "source": [
    "The two datasets we will be using for this project are 'QVI_purchase_behaviour.csv' and 'QVI_transaction_data.xlsx'.\n",
    "\n",
    "The first dataset contains information on a supermarket's customers. Each customer has a loyalty card number, and is categorized based on their lifestage, and level of loyalty.\n",
    "\n",
    "The second dataset contains information on each chip purchase by these customers from 01-Jul-2018 to 30-Jun-2019. Each purchase has an associated store number, transaction ID, product number, product name, product quantity, and total sale amount."
   ]
  },
  {
   "cell_type": "markdown",
   "metadata": {
    "id": "w1DMibNuYZsc"
   },
   "source": [
    "# **Data Cleaning**\n",
    "The first step of this project is to merge the two datasets and clean the data to ensure ease of analysis."
   ]
  },
  {
   "cell_type": "code",
   "execution_count": 5,
   "metadata": {
    "executionInfo": {
     "elapsed": 21975,
     "status": "ok",
     "timestamp": 1704505651478,
     "user": {
      "displayName": "CHRISTI MARIAM DENNY",
      "userId": "07385360295014298325"
     },
     "user_tz": 480
    },
    "id": "I7Xto-RGdn2T"
   },
   "outputs": [],
   "source": [
    "# Load purchase behaviour and transaction data sets\n",
    "df1 = pd.read_csv(\"/content/QVI_purchase_behaviour.csv\")\n",
    "df2 = pd.read_excel(\"/content/QVI_transaction_data.xlsx\")"
   ]
  },
  {
   "cell_type": "code",
   "execution_count": 6,
   "metadata": {
    "executionInfo": {
     "elapsed": 152,
     "status": "ok",
     "timestamp": 1704505656764,
     "user": {
      "displayName": "CHRISTI MARIAM DENNY",
      "userId": "07385360295014298325"
     },
     "user_tz": 480
    },
    "id": "pd6PFQh6d_j9"
   },
   "outputs": [],
   "source": [
    "# Merge the two dataframes on the common column \"LYLTY_CARD_NBR\"\n",
    "df = pd.merge(df1, df2, on=\"LYLTY_CARD_NBR\")"
   ]
  },
  {
   "cell_type": "code",
   "execution_count": 7,
   "metadata": {
    "colab": {
     "base_uri": "https://localhost:8080/",
     "height": 206
    },
    "executionInfo": {
     "elapsed": 120,
     "status": "ok",
     "timestamp": 1704505668719,
     "user": {
      "displayName": "CHRISTI MARIAM DENNY",
      "userId": "07385360295014298325"
     },
     "user_tz": 480
    },
    "id": "nG1S-dNBeiCX",
    "outputId": "7a430a36-e4f6-4539-ec56-6a8f623cf87e"
   },
   "outputs": [
    {
     "data": {
      "text/html": [
       "\n",
       "  <div id=\"df-21f09635-23b7-43bf-92b8-be05891998c1\" class=\"colab-df-container\">\n",
       "    <div>\n",
       "<style scoped>\n",
       "    .dataframe tbody tr th:only-of-type {\n",
       "        vertical-align: middle;\n",
       "    }\n",
       "\n",
       "    .dataframe tbody tr th {\n",
       "        vertical-align: top;\n",
       "    }\n",
       "\n",
       "    .dataframe thead th {\n",
       "        text-align: right;\n",
       "    }\n",
       "</style>\n",
       "<table border=\"1\" class=\"dataframe\">\n",
       "  <thead>\n",
       "    <tr style=\"text-align: right;\">\n",
       "      <th></th>\n",
       "      <th>LYLTY_CARD_NBR</th>\n",
       "      <th>LIFESTAGE</th>\n",
       "      <th>PREMIUM_CUSTOMER</th>\n",
       "      <th>DATE</th>\n",
       "      <th>STORE_NBR</th>\n",
       "      <th>TXN_ID</th>\n",
       "      <th>PROD_NBR</th>\n",
       "      <th>PROD_NAME</th>\n",
       "      <th>PROD_QTY</th>\n",
       "      <th>TOT_SALES</th>\n",
       "    </tr>\n",
       "  </thead>\n",
       "  <tbody>\n",
       "    <tr>\n",
       "      <th>0</th>\n",
       "      <td>1000</td>\n",
       "      <td>YOUNG SINGLES/COUPLES</td>\n",
       "      <td>Premium</td>\n",
       "      <td>2018-10-17</td>\n",
       "      <td>1</td>\n",
       "      <td>1</td>\n",
       "      <td>5</td>\n",
       "      <td>Natural Chip        Compny SeaSalt175g</td>\n",
       "      <td>2</td>\n",
       "      <td>6.0</td>\n",
       "    </tr>\n",
       "    <tr>\n",
       "      <th>1</th>\n",
       "      <td>1002</td>\n",
       "      <td>YOUNG SINGLES/COUPLES</td>\n",
       "      <td>Mainstream</td>\n",
       "      <td>2018-09-16</td>\n",
       "      <td>1</td>\n",
       "      <td>2</td>\n",
       "      <td>58</td>\n",
       "      <td>Red Rock Deli Chikn&amp;Garlic Aioli 150g</td>\n",
       "      <td>1</td>\n",
       "      <td>2.7</td>\n",
       "    </tr>\n",
       "    <tr>\n",
       "      <th>2</th>\n",
       "      <td>1003</td>\n",
       "      <td>YOUNG FAMILIES</td>\n",
       "      <td>Budget</td>\n",
       "      <td>2019-03-07</td>\n",
       "      <td>1</td>\n",
       "      <td>3</td>\n",
       "      <td>52</td>\n",
       "      <td>Grain Waves Sour    Cream&amp;Chives 210G</td>\n",
       "      <td>1</td>\n",
       "      <td>3.6</td>\n",
       "    </tr>\n",
       "    <tr>\n",
       "      <th>3</th>\n",
       "      <td>1003</td>\n",
       "      <td>YOUNG FAMILIES</td>\n",
       "      <td>Budget</td>\n",
       "      <td>2019-03-08</td>\n",
       "      <td>1</td>\n",
       "      <td>4</td>\n",
       "      <td>106</td>\n",
       "      <td>Natural ChipCo      Hony Soy Chckn175g</td>\n",
       "      <td>1</td>\n",
       "      <td>3.0</td>\n",
       "    </tr>\n",
       "    <tr>\n",
       "      <th>4</th>\n",
       "      <td>1004</td>\n",
       "      <td>OLDER SINGLES/COUPLES</td>\n",
       "      <td>Mainstream</td>\n",
       "      <td>2018-11-02</td>\n",
       "      <td>1</td>\n",
       "      <td>5</td>\n",
       "      <td>96</td>\n",
       "      <td>WW Original Stacked Chips 160g</td>\n",
       "      <td>1</td>\n",
       "      <td>1.9</td>\n",
       "    </tr>\n",
       "  </tbody>\n",
       "</table>\n",
       "</div>\n",
       "    <div class=\"colab-df-buttons\">\n",
       "\n",
       "  <div class=\"colab-df-container\">\n",
       "    <button class=\"colab-df-convert\" onclick=\"convertToInteractive('df-21f09635-23b7-43bf-92b8-be05891998c1')\"\n",
       "            title=\"Convert this dataframe to an interactive table.\"\n",
       "            style=\"display:none;\">\n",
       "\n",
       "  <svg xmlns=\"http://www.w3.org/2000/svg\" height=\"24px\" viewBox=\"0 -960 960 960\">\n",
       "    <path d=\"M120-120v-720h720v720H120Zm60-500h600v-160H180v160Zm220 220h160v-160H400v160Zm0 220h160v-160H400v160ZM180-400h160v-160H180v160Zm440 0h160v-160H620v160ZM180-180h160v-160H180v160Zm440 0h160v-160H620v160Z\"/>\n",
       "  </svg>\n",
       "    </button>\n",
       "\n",
       "  <style>\n",
       "    .colab-df-container {\n",
       "      display:flex;\n",
       "      gap: 12px;\n",
       "    }\n",
       "\n",
       "    .colab-df-convert {\n",
       "      background-color: #E8F0FE;\n",
       "      border: none;\n",
       "      border-radius: 50%;\n",
       "      cursor: pointer;\n",
       "      display: none;\n",
       "      fill: #1967D2;\n",
       "      height: 32px;\n",
       "      padding: 0 0 0 0;\n",
       "      width: 32px;\n",
       "    }\n",
       "\n",
       "    .colab-df-convert:hover {\n",
       "      background-color: #E2EBFA;\n",
       "      box-shadow: 0px 1px 2px rgba(60, 64, 67, 0.3), 0px 1px 3px 1px rgba(60, 64, 67, 0.15);\n",
       "      fill: #174EA6;\n",
       "    }\n",
       "\n",
       "    .colab-df-buttons div {\n",
       "      margin-bottom: 4px;\n",
       "    }\n",
       "\n",
       "    [theme=dark] .colab-df-convert {\n",
       "      background-color: #3B4455;\n",
       "      fill: #D2E3FC;\n",
       "    }\n",
       "\n",
       "    [theme=dark] .colab-df-convert:hover {\n",
       "      background-color: #434B5C;\n",
       "      box-shadow: 0px 1px 3px 1px rgba(0, 0, 0, 0.15);\n",
       "      filter: drop-shadow(0px 1px 2px rgba(0, 0, 0, 0.3));\n",
       "      fill: #FFFFFF;\n",
       "    }\n",
       "  </style>\n",
       "\n",
       "    <script>\n",
       "      const buttonEl =\n",
       "        document.querySelector('#df-21f09635-23b7-43bf-92b8-be05891998c1 button.colab-df-convert');\n",
       "      buttonEl.style.display =\n",
       "        google.colab.kernel.accessAllowed ? 'block' : 'none';\n",
       "\n",
       "      async function convertToInteractive(key) {\n",
       "        const element = document.querySelector('#df-21f09635-23b7-43bf-92b8-be05891998c1');\n",
       "        const dataTable =\n",
       "          await google.colab.kernel.invokeFunction('convertToInteractive',\n",
       "                                                    [key], {});\n",
       "        if (!dataTable) return;\n",
       "\n",
       "        const docLinkHtml = 'Like what you see? Visit the ' +\n",
       "          '<a target=\"_blank\" href=https://colab.research.google.com/notebooks/data_table.ipynb>data table notebook</a>'\n",
       "          + ' to learn more about interactive tables.';\n",
       "        element.innerHTML = '';\n",
       "        dataTable['output_type'] = 'display_data';\n",
       "        await google.colab.output.renderOutput(dataTable, element);\n",
       "        const docLink = document.createElement('div');\n",
       "        docLink.innerHTML = docLinkHtml;\n",
       "        element.appendChild(docLink);\n",
       "      }\n",
       "    </script>\n",
       "  </div>\n",
       "\n",
       "\n",
       "<div id=\"df-f1ea0742-e8b7-4108-881c-2227bc607038\">\n",
       "  <button class=\"colab-df-quickchart\" onclick=\"quickchart('df-f1ea0742-e8b7-4108-881c-2227bc607038')\"\n",
       "            title=\"Suggest charts\"\n",
       "            style=\"display:none;\">\n",
       "\n",
       "<svg xmlns=\"http://www.w3.org/2000/svg\" height=\"24px\"viewBox=\"0 0 24 24\"\n",
       "     width=\"24px\">\n",
       "    <g>\n",
       "        <path d=\"M19 3H5c-1.1 0-2 .9-2 2v14c0 1.1.9 2 2 2h14c1.1 0 2-.9 2-2V5c0-1.1-.9-2-2-2zM9 17H7v-7h2v7zm4 0h-2V7h2v10zm4 0h-2v-4h2v4z\"/>\n",
       "    </g>\n",
       "</svg>\n",
       "  </button>\n",
       "\n",
       "<style>\n",
       "  .colab-df-quickchart {\n",
       "      --bg-color: #E8F0FE;\n",
       "      --fill-color: #1967D2;\n",
       "      --hover-bg-color: #E2EBFA;\n",
       "      --hover-fill-color: #174EA6;\n",
       "      --disabled-fill-color: #AAA;\n",
       "      --disabled-bg-color: #DDD;\n",
       "  }\n",
       "\n",
       "  [theme=dark] .colab-df-quickchart {\n",
       "      --bg-color: #3B4455;\n",
       "      --fill-color: #D2E3FC;\n",
       "      --hover-bg-color: #434B5C;\n",
       "      --hover-fill-color: #FFFFFF;\n",
       "      --disabled-bg-color: #3B4455;\n",
       "      --disabled-fill-color: #666;\n",
       "  }\n",
       "\n",
       "  .colab-df-quickchart {\n",
       "    background-color: var(--bg-color);\n",
       "    border: none;\n",
       "    border-radius: 50%;\n",
       "    cursor: pointer;\n",
       "    display: none;\n",
       "    fill: var(--fill-color);\n",
       "    height: 32px;\n",
       "    padding: 0;\n",
       "    width: 32px;\n",
       "  }\n",
       "\n",
       "  .colab-df-quickchart:hover {\n",
       "    background-color: var(--hover-bg-color);\n",
       "    box-shadow: 0 1px 2px rgba(60, 64, 67, 0.3), 0 1px 3px 1px rgba(60, 64, 67, 0.15);\n",
       "    fill: var(--button-hover-fill-color);\n",
       "  }\n",
       "\n",
       "  .colab-df-quickchart-complete:disabled,\n",
       "  .colab-df-quickchart-complete:disabled:hover {\n",
       "    background-color: var(--disabled-bg-color);\n",
       "    fill: var(--disabled-fill-color);\n",
       "    box-shadow: none;\n",
       "  }\n",
       "\n",
       "  .colab-df-spinner {\n",
       "    border: 2px solid var(--fill-color);\n",
       "    border-color: transparent;\n",
       "    border-bottom-color: var(--fill-color);\n",
       "    animation:\n",
       "      spin 1s steps(1) infinite;\n",
       "  }\n",
       "\n",
       "  @keyframes spin {\n",
       "    0% {\n",
       "      border-color: transparent;\n",
       "      border-bottom-color: var(--fill-color);\n",
       "      border-left-color: var(--fill-color);\n",
       "    }\n",
       "    20% {\n",
       "      border-color: transparent;\n",
       "      border-left-color: var(--fill-color);\n",
       "      border-top-color: var(--fill-color);\n",
       "    }\n",
       "    30% {\n",
       "      border-color: transparent;\n",
       "      border-left-color: var(--fill-color);\n",
       "      border-top-color: var(--fill-color);\n",
       "      border-right-color: var(--fill-color);\n",
       "    }\n",
       "    40% {\n",
       "      border-color: transparent;\n",
       "      border-right-color: var(--fill-color);\n",
       "      border-top-color: var(--fill-color);\n",
       "    }\n",
       "    60% {\n",
       "      border-color: transparent;\n",
       "      border-right-color: var(--fill-color);\n",
       "    }\n",
       "    80% {\n",
       "      border-color: transparent;\n",
       "      border-right-color: var(--fill-color);\n",
       "      border-bottom-color: var(--fill-color);\n",
       "    }\n",
       "    90% {\n",
       "      border-color: transparent;\n",
       "      border-bottom-color: var(--fill-color);\n",
       "    }\n",
       "  }\n",
       "</style>\n",
       "\n",
       "  <script>\n",
       "    async function quickchart(key) {\n",
       "      const quickchartButtonEl =\n",
       "        document.querySelector('#' + key + ' button');\n",
       "      quickchartButtonEl.disabled = true;  // To prevent multiple clicks.\n",
       "      quickchartButtonEl.classList.add('colab-df-spinner');\n",
       "      try {\n",
       "        const charts = await google.colab.kernel.invokeFunction(\n",
       "            'suggestCharts', [key], {});\n",
       "      } catch (error) {\n",
       "        console.error('Error during call to suggestCharts:', error);\n",
       "      }\n",
       "      quickchartButtonEl.classList.remove('colab-df-spinner');\n",
       "      quickchartButtonEl.classList.add('colab-df-quickchart-complete');\n",
       "    }\n",
       "    (() => {\n",
       "      let quickchartButtonEl =\n",
       "        document.querySelector('#df-f1ea0742-e8b7-4108-881c-2227bc607038 button');\n",
       "      quickchartButtonEl.style.display =\n",
       "        google.colab.kernel.accessAllowed ? 'block' : 'none';\n",
       "    })();\n",
       "  </script>\n",
       "</div>\n",
       "\n",
       "    </div>\n",
       "  </div>\n"
      ],
      "text/plain": [
       "   LYLTY_CARD_NBR              LIFESTAGE PREMIUM_CUSTOMER       DATE  \\\n",
       "0            1000  YOUNG SINGLES/COUPLES          Premium 2018-10-17   \n",
       "1            1002  YOUNG SINGLES/COUPLES       Mainstream 2018-09-16   \n",
       "2            1003         YOUNG FAMILIES           Budget 2019-03-07   \n",
       "3            1003         YOUNG FAMILIES           Budget 2019-03-08   \n",
       "4            1004  OLDER SINGLES/COUPLES       Mainstream 2018-11-02   \n",
       "\n",
       "   STORE_NBR  TXN_ID  PROD_NBR                               PROD_NAME  \\\n",
       "0          1       1         5  Natural Chip        Compny SeaSalt175g   \n",
       "1          1       2        58   Red Rock Deli Chikn&Garlic Aioli 150g   \n",
       "2          1       3        52   Grain Waves Sour    Cream&Chives 210G   \n",
       "3          1       4       106  Natural ChipCo      Hony Soy Chckn175g   \n",
       "4          1       5        96          WW Original Stacked Chips 160g   \n",
       "\n",
       "   PROD_QTY  TOT_SALES  \n",
       "0         2        6.0  \n",
       "1         1        2.7  \n",
       "2         1        3.6  \n",
       "3         1        3.0  \n",
       "4         1        1.9  "
      ]
     },
     "execution_count": 7,
     "metadata": {},
     "output_type": "execute_result"
    }
   ],
   "source": [
    "# Take a look at the first five rows of the merged data set\n",
    "df.head()"
   ]
  },
  {
   "cell_type": "markdown",
   "metadata": {
    "id": "enIFKyXEz1kq"
   },
   "source": [
    "As you can see, the 'PROD_NAME' column contains 3 pieces of information that can be separated: chip brand, chip flavour, and size of package. Let's start by extracting pack size."
   ]
  },
  {
   "cell_type": "code",
   "execution_count": 9,
   "metadata": {
    "executionInfo": {
     "elapsed": 554,
     "status": "ok",
     "timestamp": 1704505684981,
     "user": {
      "displayName": "CHRISTI MARIAM DENNY",
      "userId": "07385360295014298325"
     },
     "user_tz": 480
    },
    "id": "A6OehYC5ekDp"
   },
   "outputs": [],
   "source": [
    "# Extract pack size from the 'PROD_NAME' column and save it in a separate column\n",
    "df['PACK_SIZE'] = df['PROD_NAME'].str.extract(r'(\\d+g)', flags=re.IGNORECASE)\n",
    "\n",
    "# Remove pack size from the 'PROD_NAME' column\n",
    "df['PROD_NAME'] = df['PROD_NAME'].str.replace(r'\\d+g', '', flags=re.IGNORECASE).str.strip()\n",
    "\n",
    "# Extract the numerical value of 'PACK_SIZE' and save it in a separate column\n",
    "df['PACK_SIZE_GRAMS'] = df['PACK_SIZE'].str.extract(r'(\\d+)', expand=False)\n",
    "\n",
    "# Drop the original 'PACK_SIZE' column\n",
    "df.drop(columns=['PACK_SIZE'], inplace=True)"
   ]
  },
  {
   "cell_type": "markdown",
   "metadata": {
    "id": "YMKmOKrCGWz9"
   },
   "source": [
    "Next, let's extract brand names from the 'PROD_NAME' column."
   ]
  },
  {
   "cell_type": "code",
   "execution_count": 10,
   "metadata": {
    "colab": {
     "base_uri": "https://localhost:8080/",
     "height": 293
    },
    "executionInfo": {
     "elapsed": 1159,
     "status": "ok",
     "timestamp": 1704505686138,
     "user": {
      "displayName": "CHRISTI MARIAM DENNY",
      "userId": "07385360295014298325"
     },
     "user_tz": 480
    },
    "id": "1b4AgNXSGS3g",
    "outputId": "c5a6bea4-0b39-4042-c299-ff6672c49fe8"
   },
   "outputs": [
    {
     "data": {
      "text/html": [
       "\n",
       "  <div id=\"df-5583a807-f6dd-4060-8d1d-571a20ae205f\" class=\"colab-df-container\">\n",
       "    <div>\n",
       "<style scoped>\n",
       "    .dataframe tbody tr th:only-of-type {\n",
       "        vertical-align: middle;\n",
       "    }\n",
       "\n",
       "    .dataframe tbody tr th {\n",
       "        vertical-align: top;\n",
       "    }\n",
       "\n",
       "    .dataframe thead th {\n",
       "        text-align: right;\n",
       "    }\n",
       "</style>\n",
       "<table border=\"1\" class=\"dataframe\">\n",
       "  <thead>\n",
       "    <tr style=\"text-align: right;\">\n",
       "      <th></th>\n",
       "      <th>LYLTY_CARD_NBR</th>\n",
       "      <th>LIFESTAGE</th>\n",
       "      <th>PREMIUM_CUSTOMER</th>\n",
       "      <th>DATE</th>\n",
       "      <th>STORE_NBR</th>\n",
       "      <th>TXN_ID</th>\n",
       "      <th>PROD_NBR</th>\n",
       "      <th>PROD_NAME</th>\n",
       "      <th>PROD_QTY</th>\n",
       "      <th>TOT_SALES</th>\n",
       "      <th>PACK_SIZE_GRAMS</th>\n",
       "      <th>BRAND</th>\n",
       "    </tr>\n",
       "  </thead>\n",
       "  <tbody>\n",
       "    <tr>\n",
       "      <th>0</th>\n",
       "      <td>1000</td>\n",
       "      <td>YOUNG SINGLES/COUPLES</td>\n",
       "      <td>Premium</td>\n",
       "      <td>2018-10-17</td>\n",
       "      <td>1</td>\n",
       "      <td>1</td>\n",
       "      <td>5</td>\n",
       "      <td>Chip        Compny SeaSalt</td>\n",
       "      <td>2</td>\n",
       "      <td>6.0</td>\n",
       "      <td>NaN</td>\n",
       "      <td>Natural</td>\n",
       "    </tr>\n",
       "    <tr>\n",
       "      <th>1</th>\n",
       "      <td>1002</td>\n",
       "      <td>YOUNG SINGLES/COUPLES</td>\n",
       "      <td>Mainstream</td>\n",
       "      <td>2018-09-16</td>\n",
       "      <td>1</td>\n",
       "      <td>2</td>\n",
       "      <td>58</td>\n",
       "      <td>Rock Deli Chikn&amp;Garlic Aioli</td>\n",
       "      <td>1</td>\n",
       "      <td>2.7</td>\n",
       "      <td>NaN</td>\n",
       "      <td>Red</td>\n",
       "    </tr>\n",
       "    <tr>\n",
       "      <th>2</th>\n",
       "      <td>1003</td>\n",
       "      <td>YOUNG FAMILIES</td>\n",
       "      <td>Budget</td>\n",
       "      <td>2019-03-07</td>\n",
       "      <td>1</td>\n",
       "      <td>3</td>\n",
       "      <td>52</td>\n",
       "      <td>Waves Sour    Cream&amp;Chives</td>\n",
       "      <td>1</td>\n",
       "      <td>3.6</td>\n",
       "      <td>NaN</td>\n",
       "      <td>Grain</td>\n",
       "    </tr>\n",
       "    <tr>\n",
       "      <th>3</th>\n",
       "      <td>1003</td>\n",
       "      <td>YOUNG FAMILIES</td>\n",
       "      <td>Budget</td>\n",
       "      <td>2019-03-08</td>\n",
       "      <td>1</td>\n",
       "      <td>4</td>\n",
       "      <td>106</td>\n",
       "      <td>ChipCo      Hony Soy Chckn</td>\n",
       "      <td>1</td>\n",
       "      <td>3.0</td>\n",
       "      <td>NaN</td>\n",
       "      <td>Natural</td>\n",
       "    </tr>\n",
       "    <tr>\n",
       "      <th>4</th>\n",
       "      <td>1004</td>\n",
       "      <td>OLDER SINGLES/COUPLES</td>\n",
       "      <td>Mainstream</td>\n",
       "      <td>2018-11-02</td>\n",
       "      <td>1</td>\n",
       "      <td>5</td>\n",
       "      <td>96</td>\n",
       "      <td>Original Stacked Chips</td>\n",
       "      <td>1</td>\n",
       "      <td>1.9</td>\n",
       "      <td>NaN</td>\n",
       "      <td>WW</td>\n",
       "    </tr>\n",
       "  </tbody>\n",
       "</table>\n",
       "</div>\n",
       "    <div class=\"colab-df-buttons\">\n",
       "\n",
       "  <div class=\"colab-df-container\">\n",
       "    <button class=\"colab-df-convert\" onclick=\"convertToInteractive('df-5583a807-f6dd-4060-8d1d-571a20ae205f')\"\n",
       "            title=\"Convert this dataframe to an interactive table.\"\n",
       "            style=\"display:none;\">\n",
       "\n",
       "  <svg xmlns=\"http://www.w3.org/2000/svg\" height=\"24px\" viewBox=\"0 -960 960 960\">\n",
       "    <path d=\"M120-120v-720h720v720H120Zm60-500h600v-160H180v160Zm220 220h160v-160H400v160Zm0 220h160v-160H400v160ZM180-400h160v-160H180v160Zm440 0h160v-160H620v160ZM180-180h160v-160H180v160Zm440 0h160v-160H620v160Z\"/>\n",
       "  </svg>\n",
       "    </button>\n",
       "\n",
       "  <style>\n",
       "    .colab-df-container {\n",
       "      display:flex;\n",
       "      gap: 12px;\n",
       "    }\n",
       "\n",
       "    .colab-df-convert {\n",
       "      background-color: #E8F0FE;\n",
       "      border: none;\n",
       "      border-radius: 50%;\n",
       "      cursor: pointer;\n",
       "      display: none;\n",
       "      fill: #1967D2;\n",
       "      height: 32px;\n",
       "      padding: 0 0 0 0;\n",
       "      width: 32px;\n",
       "    }\n",
       "\n",
       "    .colab-df-convert:hover {\n",
       "      background-color: #E2EBFA;\n",
       "      box-shadow: 0px 1px 2px rgba(60, 64, 67, 0.3), 0px 1px 3px 1px rgba(60, 64, 67, 0.15);\n",
       "      fill: #174EA6;\n",
       "    }\n",
       "\n",
       "    .colab-df-buttons div {\n",
       "      margin-bottom: 4px;\n",
       "    }\n",
       "\n",
       "    [theme=dark] .colab-df-convert {\n",
       "      background-color: #3B4455;\n",
       "      fill: #D2E3FC;\n",
       "    }\n",
       "\n",
       "    [theme=dark] .colab-df-convert:hover {\n",
       "      background-color: #434B5C;\n",
       "      box-shadow: 0px 1px 3px 1px rgba(0, 0, 0, 0.15);\n",
       "      filter: drop-shadow(0px 1px 2px rgba(0, 0, 0, 0.3));\n",
       "      fill: #FFFFFF;\n",
       "    }\n",
       "  </style>\n",
       "\n",
       "    <script>\n",
       "      const buttonEl =\n",
       "        document.querySelector('#df-5583a807-f6dd-4060-8d1d-571a20ae205f button.colab-df-convert');\n",
       "      buttonEl.style.display =\n",
       "        google.colab.kernel.accessAllowed ? 'block' : 'none';\n",
       "\n",
       "      async function convertToInteractive(key) {\n",
       "        const element = document.querySelector('#df-5583a807-f6dd-4060-8d1d-571a20ae205f');\n",
       "        const dataTable =\n",
       "          await google.colab.kernel.invokeFunction('convertToInteractive',\n",
       "                                                    [key], {});\n",
       "        if (!dataTable) return;\n",
       "\n",
       "        const docLinkHtml = 'Like what you see? Visit the ' +\n",
       "          '<a target=\"_blank\" href=https://colab.research.google.com/notebooks/data_table.ipynb>data table notebook</a>'\n",
       "          + ' to learn more about interactive tables.';\n",
       "        element.innerHTML = '';\n",
       "        dataTable['output_type'] = 'display_data';\n",
       "        await google.colab.output.renderOutput(dataTable, element);\n",
       "        const docLink = document.createElement('div');\n",
       "        docLink.innerHTML = docLinkHtml;\n",
       "        element.appendChild(docLink);\n",
       "      }\n",
       "    </script>\n",
       "  </div>\n",
       "\n",
       "\n",
       "<div id=\"df-5670855d-6950-4561-84c5-e746b5dfc468\">\n",
       "  <button class=\"colab-df-quickchart\" onclick=\"quickchart('df-5670855d-6950-4561-84c5-e746b5dfc468')\"\n",
       "            title=\"Suggest charts\"\n",
       "            style=\"display:none;\">\n",
       "\n",
       "<svg xmlns=\"http://www.w3.org/2000/svg\" height=\"24px\"viewBox=\"0 0 24 24\"\n",
       "     width=\"24px\">\n",
       "    <g>\n",
       "        <path d=\"M19 3H5c-1.1 0-2 .9-2 2v14c0 1.1.9 2 2 2h14c1.1 0 2-.9 2-2V5c0-1.1-.9-2-2-2zM9 17H7v-7h2v7zm4 0h-2V7h2v10zm4 0h-2v-4h2v4z\"/>\n",
       "    </g>\n",
       "</svg>\n",
       "  </button>\n",
       "\n",
       "<style>\n",
       "  .colab-df-quickchart {\n",
       "      --bg-color: #E8F0FE;\n",
       "      --fill-color: #1967D2;\n",
       "      --hover-bg-color: #E2EBFA;\n",
       "      --hover-fill-color: #174EA6;\n",
       "      --disabled-fill-color: #AAA;\n",
       "      --disabled-bg-color: #DDD;\n",
       "  }\n",
       "\n",
       "  [theme=dark] .colab-df-quickchart {\n",
       "      --bg-color: #3B4455;\n",
       "      --fill-color: #D2E3FC;\n",
       "      --hover-bg-color: #434B5C;\n",
       "      --hover-fill-color: #FFFFFF;\n",
       "      --disabled-bg-color: #3B4455;\n",
       "      --disabled-fill-color: #666;\n",
       "  }\n",
       "\n",
       "  .colab-df-quickchart {\n",
       "    background-color: var(--bg-color);\n",
       "    border: none;\n",
       "    border-radius: 50%;\n",
       "    cursor: pointer;\n",
       "    display: none;\n",
       "    fill: var(--fill-color);\n",
       "    height: 32px;\n",
       "    padding: 0;\n",
       "    width: 32px;\n",
       "  }\n",
       "\n",
       "  .colab-df-quickchart:hover {\n",
       "    background-color: var(--hover-bg-color);\n",
       "    box-shadow: 0 1px 2px rgba(60, 64, 67, 0.3), 0 1px 3px 1px rgba(60, 64, 67, 0.15);\n",
       "    fill: var(--button-hover-fill-color);\n",
       "  }\n",
       "\n",
       "  .colab-df-quickchart-complete:disabled,\n",
       "  .colab-df-quickchart-complete:disabled:hover {\n",
       "    background-color: var(--disabled-bg-color);\n",
       "    fill: var(--disabled-fill-color);\n",
       "    box-shadow: none;\n",
       "  }\n",
       "\n",
       "  .colab-df-spinner {\n",
       "    border: 2px solid var(--fill-color);\n",
       "    border-color: transparent;\n",
       "    border-bottom-color: var(--fill-color);\n",
       "    animation:\n",
       "      spin 1s steps(1) infinite;\n",
       "  }\n",
       "\n",
       "  @keyframes spin {\n",
       "    0% {\n",
       "      border-color: transparent;\n",
       "      border-bottom-color: var(--fill-color);\n",
       "      border-left-color: var(--fill-color);\n",
       "    }\n",
       "    20% {\n",
       "      border-color: transparent;\n",
       "      border-left-color: var(--fill-color);\n",
       "      border-top-color: var(--fill-color);\n",
       "    }\n",
       "    30% {\n",
       "      border-color: transparent;\n",
       "      border-left-color: var(--fill-color);\n",
       "      border-top-color: var(--fill-color);\n",
       "      border-right-color: var(--fill-color);\n",
       "    }\n",
       "    40% {\n",
       "      border-color: transparent;\n",
       "      border-right-color: var(--fill-color);\n",
       "      border-top-color: var(--fill-color);\n",
       "    }\n",
       "    60% {\n",
       "      border-color: transparent;\n",
       "      border-right-color: var(--fill-color);\n",
       "    }\n",
       "    80% {\n",
       "      border-color: transparent;\n",
       "      border-right-color: var(--fill-color);\n",
       "      border-bottom-color: var(--fill-color);\n",
       "    }\n",
       "    90% {\n",
       "      border-color: transparent;\n",
       "      border-bottom-color: var(--fill-color);\n",
       "    }\n",
       "  }\n",
       "</style>\n",
       "\n",
       "  <script>\n",
       "    async function quickchart(key) {\n",
       "      const quickchartButtonEl =\n",
       "        document.querySelector('#' + key + ' button');\n",
       "      quickchartButtonEl.disabled = true;  // To prevent multiple clicks.\n",
       "      quickchartButtonEl.classList.add('colab-df-spinner');\n",
       "      try {\n",
       "        const charts = await google.colab.kernel.invokeFunction(\n",
       "            'suggestCharts', [key], {});\n",
       "      } catch (error) {\n",
       "        console.error('Error during call to suggestCharts:', error);\n",
       "      }\n",
       "      quickchartButtonEl.classList.remove('colab-df-spinner');\n",
       "      quickchartButtonEl.classList.add('colab-df-quickchart-complete');\n",
       "    }\n",
       "    (() => {\n",
       "      let quickchartButtonEl =\n",
       "        document.querySelector('#df-5670855d-6950-4561-84c5-e746b5dfc468 button');\n",
       "      quickchartButtonEl.style.display =\n",
       "        google.colab.kernel.accessAllowed ? 'block' : 'none';\n",
       "    })();\n",
       "  </script>\n",
       "</div>\n",
       "\n",
       "    </div>\n",
       "  </div>\n"
      ],
      "text/plain": [
       "   LYLTY_CARD_NBR              LIFESTAGE PREMIUM_CUSTOMER       DATE  \\\n",
       "0            1000  YOUNG SINGLES/COUPLES          Premium 2018-10-17   \n",
       "1            1002  YOUNG SINGLES/COUPLES       Mainstream 2018-09-16   \n",
       "2            1003         YOUNG FAMILIES           Budget 2019-03-07   \n",
       "3            1003         YOUNG FAMILIES           Budget 2019-03-08   \n",
       "4            1004  OLDER SINGLES/COUPLES       Mainstream 2018-11-02   \n",
       "\n",
       "   STORE_NBR  TXN_ID  PROD_NBR                     PROD_NAME  PROD_QTY  \\\n",
       "0          1       1         5    Chip        Compny SeaSalt         2   \n",
       "1          1       2        58  Rock Deli Chikn&Garlic Aioli         1   \n",
       "2          1       3        52    Waves Sour    Cream&Chives         1   \n",
       "3          1       4       106    ChipCo      Hony Soy Chckn         1   \n",
       "4          1       5        96        Original Stacked Chips         1   \n",
       "\n",
       "   TOT_SALES PACK_SIZE_GRAMS    BRAND  \n",
       "0        6.0             NaN  Natural  \n",
       "1        2.7             NaN      Red  \n",
       "2        3.6             NaN    Grain  \n",
       "3        3.0             NaN  Natural  \n",
       "4        1.9             NaN       WW  "
      ]
     },
     "execution_count": 10,
     "metadata": {},
     "output_type": "execute_result"
    }
   ],
   "source": [
    "# Extract the brand name from the 'PROD_NAME' column and save it in a separate column\n",
    "df['BRAND'] = df['PROD_NAME'].str.split().str[0]\n",
    "\n",
    "# Remove brand name from the 'PROD_NAME' column\n",
    "df['PROD_NAME'] = df['PROD_NAME'].str.split(n=1).str[1]\n",
    "\n",
    "# Take a look at the first five rows of the updated data set\n",
    "df.head()"
   ]
  },
  {
   "cell_type": "code",
   "execution_count": 11,
   "metadata": {
    "colab": {
     "base_uri": "https://localhost:8080/"
    },
    "executionInfo": {
     "elapsed": 3,
     "status": "ok",
     "timestamp": 1704505686138,
     "user": {
      "displayName": "CHRISTI MARIAM DENNY",
      "userId": "07385360295014298325"
     },
     "user_tz": 480
    },
    "id": "juY5rAZY5lvI",
    "outputId": "db4d0123-c604-46ba-a65f-9c9c3441a01c"
   },
   "outputs": [
    {
     "data": {
      "text/plain": [
       "Kettle        41288\n",
       "Smiths        28860\n",
       "Pringles      25102\n",
       "Doritos       24962\n",
       "Thins         14075\n",
       "RRD           11894\n",
       "Infuzions     11057\n",
       "WW            10320\n",
       "Cobs           9693\n",
       "Tostitos       9471\n",
       "Twisties       9454\n",
       "Old            9324\n",
       "Tyrrells       6442\n",
       "Grain          6272\n",
       "Natural        6050\n",
       "Red            5885\n",
       "Cheezels       4603\n",
       "CCs            4551\n",
       "Woolworths     4437\n",
       "Dorito         3185\n",
       "Infzns         3144\n",
       "Smith          2963\n",
       "Cheetos        2927\n",
       "Snbts          1576\n",
       "Burger         1564\n",
       "GrnWves        1468\n",
       "Sunbites       1432\n",
       "NCC            1419\n",
       "French         1418\n",
       "Name: BRAND, dtype: int64"
      ]
     },
     "execution_count": 11,
     "metadata": {},
     "output_type": "execute_result"
    }
   ],
   "source": [
    "# Count the number of brands\n",
    "df['BRAND'].value_counts()"
   ]
  },
  {
   "cell_type": "markdown",
   "metadata": {
    "id": "HSSNsn-N54K2"
   },
   "source": [
    "Some of the brand names look like they belong to the same brand. For example, Red and RRD both refer to Red Rock Deli chips. We will need to combine variations of the same brand name."
   ]
  },
  {
   "cell_type": "code",
   "execution_count": 12,
   "metadata": {
    "colab": {
     "base_uri": "https://localhost:8080/"
    },
    "executionInfo": {
     "elapsed": 208,
     "status": "ok",
     "timestamp": 1704505686345,
     "user": {
      "displayName": "CHRISTI MARIAM DENNY",
      "userId": "07385360295014298325"
     },
     "user_tz": 480
    },
    "id": "6ZU_dkQa6ENy",
    "outputId": "b48594db-8fac-405c-8518-8416e36b6d18"
   },
   "outputs": [
    {
     "data": {
      "text/plain": [
       "Kettle        41288\n",
       "Smiths        31823\n",
       "Doritos       28147\n",
       "Pringles      25102\n",
       "RRD           17779\n",
       "Woolworths    14757\n",
       "Infuzions     14201\n",
       "Thins         14075\n",
       "Cobs           9693\n",
       "Tostitos       9471\n",
       "Twisties       9454\n",
       "Old            9324\n",
       "GrnWves        7740\n",
       "Natural        7469\n",
       "Tyrrells       6442\n",
       "Cheezels       4603\n",
       "CCs            4551\n",
       "Sunbites       3008\n",
       "Cheetos        2927\n",
       "Burger         1564\n",
       "French         1418\n",
       "Name: BRAND, dtype: int64"
      ]
     },
     "execution_count": 12,
     "metadata": {},
     "output_type": "execute_result"
    }
   ],
   "source": [
    "# Combine brand names\n",
    "df['BRAND'] = df['BRAND'].replace('Red','RRD')\n",
    "df['BRAND'] = df['BRAND'].replace('Snbts','Sunbites')\n",
    "df['BRAND'] = df['BRAND'].replace('Infzns','Infuzions')\n",
    "df['BRAND'] = df['BRAND'].replace('WW','Woolworths')\n",
    "df['BRAND'] = df['BRAND'].replace('Smith','Smiths')\n",
    "df['BRAND'] = df['BRAND'].replace('NCC','Natural')\n",
    "df['BRAND'] = df['BRAND'].replace('Dorito','Doritos')\n",
    "df['BRAND'] = df['BRAND'].replace('Grain','GrnWves')\n",
    "\n",
    "# Count the number of brands\n",
    "df['BRAND'].value_counts()"
   ]
  },
  {
   "cell_type": "markdown",
   "metadata": {
    "id": "xN5OAwCz3ONf"
   },
   "source": [
    "Great! There are 21 unique brands of chips in this dataset.\n",
    "\n",
    "The dataset now has each chip pack size (in grams) and chip brand in separate columns. The 'PROD_NAME' column only contains the chip flavours. However, the same flavours across brands may have variations in label. This may make it difficult to create distinct flavour categories. The final step to extract all chip product characteristics is to clean the flavour data."
   ]
  },
  {
   "cell_type": "code",
   "execution_count": 13,
   "metadata": {
    "colab": {
     "base_uri": "https://localhost:8080/"
    },
    "executionInfo": {
     "elapsed": 4,
     "status": "ok",
     "timestamp": 1704505686345,
     "user": {
      "displayName": "CHRISTI MARIAM DENNY",
      "userId": "07385360295014298325"
     },
     "user_tz": 480
    },
    "id": "Th_pAiB1nF2X",
    "outputId": "5c693a34-5bff-43b1-b8f5-7baf2c047ae4"
   },
   "outputs": [
    {
     "name": "stdout",
     "output_type": "stream",
     "text": [
      "['Chip        Compny SeaSalt' 'Rock Deli Chikn&Garlic Aioli'\n",
      " 'Waves Sour    Cream&Chives' 'ChipCo      Hony Soy Chckn'\n",
      " 'Original Stacked Chips' 'Puffs' 'SourCream&Herbs Veg Strws'\n",
      " 'SR Slow Rst     Pork Belly' 'Cheese      Supreme' 'Mexicana'\n",
      " 'El Paso Salsa   Dip Tomato Med' 'Plus Btroot & Chilli Jam'\n",
      " 'Crinkle Cut  Chips Barbecue' 'Sensations   Camembert & Fig'\n",
      " 'Corn Chip Southern Chicken' 'Tasty Cheese' 'Splash Of  Lime'\n",
      " 'Swt Pot Sea Salt' 'Salt & Vinegar' 'Mango     Chutny Papadums'\n",
      " 'Crinkle Cut  Snag&Sauce' 'Crinkle      Original'\n",
      " 'Sweet Chilli &  Sour Cream' 'Chip Thinly  S/Cream&Onion'\n",
      " 'Crinkle Chips Salt & Vinegar' 'Rock Deli SR    Salsa & Mzzrlla'\n",
      " 'Popd Sea Salt  Chips' 'ChipCo Sea  Salt & Vinegr'\n",
      " 'Chip Co     Tmato Hrb&Spce' 'Rings' 'Cheese   Rings'\n",
      " 'Thinly       Swt Chli&S/Cream' 'Chips Seasonedchicken'\n",
      " 'Thinly Cut   Roast Chicken' 'Crisps     Ched & Chives'\n",
      " 'Corn Chips  Cheese Supreme' 'Chip Thinly  Cut Original'\n",
      " 'Crinkle Cut  Chips Original' 'Chips Light&  Tangy'\n",
      " 'Corn Chips  Original' 'Sensations   Siracha Lime'\n",
      " 'Crinkle Cut  Salt & Vinegar' 'Crinkle Cut   Bolognese' 'Cheese' 'Chilli'\n",
      " 'Crisps     Lightly Salted' 'Crinkle Cut      Chicken'\n",
      " 'Chilli&         Coconut' 'BBQ Rib   Prawn Crackers'\n",
      " 'Whlegrn    Crisps Frch/Onin' 'Salsa       Medium'\n",
      " 'Tortilla ChpsFeta&Garlic' 'Crinkle Cut  French OnionDip'\n",
      " 'D/Style Chip     Sea Salt' 'Chip Thinly  CutSalt/Vinegr'\n",
      " 'Sensations   BBQ&Maple' 'El Paso Salsa   Dip Tomato Mild'\n",
      " 'Smoked     Chipotle' 'Lime & Pepper' 'Nacho Cheese'\n",
      " 'Whlgrn Crisps Cheddr&Mstrd' 'Tortilla ChpsBtroot&Ricotta'\n",
      " 'Sthrn FriedChicken' 'Chicken    Salt Crips' 'Fries Potato Chips'\n",
      " 'Mozzarella   Basil & Pesto' 'Original' 'Lightly    Salted'\n",
      " 'Crnkle Chip  Orgnl Big Bag' 'Crinkle Cut  Chips Chicken'\n",
      " 'Crinkle Cut  Chips Chs&Onion' 'Chicken' 'Medium   Salsa'\n",
      " 'Rock Deli Sp    Salt & Truffle' 'Pc Sea Salt'\n",
      " 'Supreme Cheese   Corn Chips' 'Original Corn    Chips' 'Mild     Salsa'\n",
      " 'Cheese Box' 'Salsa Mild' 'Popd Swt/Chlli &Sr/Cream Chips'\n",
      " 'Crn Crnchers Tangy Gcamole' 'Sour Cream &OnionStacked Chips'\n",
      " 'Mystery    Flavour' 'Barbeque' 'Waves         Sweet Chilli'\n",
      " 'Sweet&Spcy BBQ' 'Thai SweetChili PotatoMix'\n",
      " 'El Paso Salsa   Dip Chnky Tom Ht' 'Crinkle Cut  Tomato Salsa'\n",
      " 'Chs & Bacon Balls' 'Sweet Chilli And Sour Cream'\n",
      " 'Corn Chips  Nacho Cheese' 'Popd Sour Crm  &Chives Chips'\n",
      " 'Rock Deli Thai  Chilli&Lime' 'Cheese     Burger'\n",
      " 'Sea Salt     And Vinegar' 'Crinkle Cut      Original'\n",
      " 'Corn Chp     Supreme' 'Corn Chip Mexican Jalapeno' 'SourCream  Onion'\n",
      " 'Tortilla ChpsHny&Jlpno Chili' 'Steak &         Chimuchurri'\n",
      " 'Chips Salt &  Vinegar' 'Chips         Originl saltd'\n",
      " 'Honey Soy       Chicken' 'Honey Soy    Chicken'\n",
      " 'Sour Cream &    Garden Chives' 'Original   Crisps'\n",
      " 'Crinkle Cut   Mac N Cheese' 'Potato Chips  Hot & Spicy' 'Slt Vingar']\n"
     ]
    }
   ],
   "source": [
    "# Print all unique values in the 'PROD_NAME' column. This will be our initial list of flavours\n",
    "unique_products = df['PROD_NAME'].unique()\n",
    "print(unique_products)"
   ]
  },
  {
   "cell_type": "code",
   "execution_count": 14,
   "metadata": {
    "executionInfo": {
     "elapsed": 2,
     "status": "ok",
     "timestamp": 1704505686345,
     "user": {
      "displayName": "CHRISTI MARIAM DENNY",
      "userId": "07385360295014298325"
     },
     "user_tz": 480
    },
    "id": "wdQ1sA1bnT6k"
   },
   "outputs": [],
   "source": [
    "# Manually extract a tentative list of flavours from the 'PROD_NAME' column above, clean, and store\n",
    "flavours = ['SeaSalt', 'Chikn&Garlic Aioli', 'Sour Cream&Chives', 'Hony Soy Chckn',\n",
    "            'Original', 'SourCream&Herbs', 'Slow Rst Pork Belly', 'Cheese', 'Mexicana',\n",
    "            'Salsa Dip Tomato Med', 'Btroot & Chilli Jam', 'Barbecue', 'Camembert & Fig',\n",
    "            'Southern Chicken', 'Cheese', 'Lime', 'Sea Salt', 'Salt & Vinegar', 'Mango Chutny',\n",
    "            'Snag&Sauce', 'Original', 'Sweet Chilli & Sour Cream', 'S/Cream&Onion',\n",
    "            'Salt & Vinegar', 'Salsa & Mzzrlla', 'Sea Salt', 'Sea Salt & Vinegr',\n",
    "            'Tmato Hrb&Spce', 'Cheese', 'Swt Chli&S/Cream', 'Seasonedchicken',\n",
    "            'Roast Chicken', 'Ched & Chives', 'Cheese', 'Original', 'Original', 'Tangy',\n",
    "            'Original', 'Siracha Lime', 'Salt & Vinegar', 'Bolognese', 'Cheese', 'Chilli',\n",
    "            'Lightly Salted', 'Chicken', 'Chilli& Coconut', 'BBQ Rib Prawn Crackers',\n",
    "            'Frch/Onin', 'Salsa Medium', 'ChpsFeta&Garlic', 'French OnionDip', 'Sea Salt',\n",
    "            'Salt/Vinegr', 'BBQ&Maple', 'Salsa Dip Tomato Mild', 'Smoked Chipotle',\n",
    "            'Lime & Pepper', 'Nacho Cheese', 'Cheddr&Mstrd', 'ChpsBtroot&Ricotta',\n",
    "            'Sthrn FriedChicken', 'Chicken Salt', 'Potato Chips', 'Mozzarella Basil & Pesto',\n",
    "            'Original', 'Lightly Salted', 'Orgnl', 'Chicken', 'Chs&Onion', 'Chicken', 'Salsa',\n",
    "            'Salt & Truffle', 'Sea Salt', 'Cheese', 'Original', 'Salsa', 'Cheese', 'Salsa',\n",
    "            'Swt/Chlli &Sr/Cream', 'Tangy Gcamole', 'Sour Cream &OnionStacked Chips',\n",
    "            'Mystery Flavour', 'Barbeque', 'Sweet Chilli', 'Sweet&Spcy BBQ', 'Thai SweetChili',\n",
    "            'Salsa', 'Salsa', 'Chs & Bacon', 'Sweet Chilli And Sour Cream', 'Cheese',\n",
    "            'Sour Crm &Chives', 'Thai Chilli&Lime', 'Cheese', 'Sea Salt And Vinegar',\n",
    "            'Original', 'Corn Chp Supreme', 'Mexican Jalapeno', 'SourCream Onion',\n",
    "            'ChpsHny&Jlpno Chili', 'Steak & Chimuchurri', 'Salt & Vinegar', 'Originl saltd',\n",
    "            'Honey Soy Chicken', 'Honey Soy Chicken', 'Sour Cream & Garden Chives', 'Original',\n",
    "            'Mac N Cheese', 'Hot & Spicy', 'Slt Vingar','puffs','rings']"
   ]
  },
  {
   "cell_type": "code",
   "execution_count": 15,
   "metadata": {
    "executionInfo": {
     "elapsed": 1,
     "status": "ok",
     "timestamp": 1704505686345,
     "user": {
      "displayName": "CHRISTI MARIAM DENNY",
      "userId": "07385360295014298325"
     },
     "user_tz": 480
    },
    "id": "dn2pXh6tylzD"
   },
   "outputs": [],
   "source": [
    "# Remove duplicates from the list of flavours\n",
    "flavours = list(set(flavours))\n",
    "\n",
    "# Standardize the flavours list by removing extra spaces\n",
    "flavours = [flavour.lower().replace(' ', '') for flavour in flavours]"
   ]
  },
  {
   "cell_type": "code",
   "execution_count": 16,
   "metadata": {
    "executionInfo": {
     "elapsed": 243,
     "status": "ok",
     "timestamp": 1704505686741,
     "user": {
      "displayName": "CHRISTI MARIAM DENNY",
      "userId": "07385360295014298325"
     },
     "user_tz": 480
    },
    "id": "GPpdiJp6csnX"
   },
   "outputs": [],
   "source": [
    "# Standardize the 'PROD_NAME' column by removing extra spaces\n",
    "df['PROD_NAME'] = df['PROD_NAME'].str.lower().replace(' ', '')\n",
    "\n",
    "# Remove all white spaces from the 'PROD_NAME' column\n",
    "df['PROD_NAME'] = df['PROD_NAME'].str.replace(r'\\s', '')"
   ]
  },
  {
   "cell_type": "code",
   "execution_count": 17,
   "metadata": {
    "colab": {
     "base_uri": "https://localhost:8080/"
    },
    "executionInfo": {
     "elapsed": 7306,
     "status": "ok",
     "timestamp": 1704505694046,
     "user": {
      "displayName": "CHRISTI MARIAM DENNY",
      "userId": "07385360295014298325"
     },
     "user_tz": 480
    },
    "id": "nuipMJIWzQxD",
    "outputId": "deb95e96-e79f-4339-e49b-185edf1e2eeb"
   },
   "outputs": [
    {
     "data": {
      "text/plain": [
       "cheese                    21720\n",
       "original                  21560\n",
       "salsa                     18094\n",
       "seasalt                   15613\n",
       "chilli                    13874\n",
       "                          ...  \n",
       "salt/vinegr                1440\n",
       "frenchoniondip             1438\n",
       "chikn&garlicaioli          1434\n",
       "frch/onin                  1432\n",
       "sourcream&gardenchives     1419\n",
       "Name: FLAVOURS, Length: 69, dtype: int64"
      ]
     },
     "execution_count": 17,
     "metadata": {},
     "output_type": "execute_result"
    }
   ],
   "source": [
    "# Create a new column 'FLAVOURS' with the longest match\n",
    "df['FLAVOURS'] = ''\n",
    "\n",
    "# Iterate through the sorted flavours list and prioritize longer matches\n",
    "for flavour in flavours:\n",
    "    mask = df['PROD_NAME'].str.contains(flavour)\n",
    "    df.loc[mask, 'FLAVOURS'] = flavour\n",
    "\n",
    "# Count the different flavour types\n",
    "df['FLAVOURS'].value_counts()"
   ]
  },
  {
   "cell_type": "markdown",
   "metadata": {
    "id": "8VdrAHbNJh06"
   },
   "source": [
    "There are some variations in the flavour labels, and these should be cleaned to ensure a standard naming convention."
   ]
  },
  {
   "cell_type": "code",
   "execution_count": 18,
   "metadata": {
    "executionInfo": {
     "elapsed": 178,
     "status": "ok",
     "timestamp": 1704505694221,
     "user": {
      "displayName": "CHRISTI MARIAM DENNY",
      "userId": "07385360295014298325"
     },
     "user_tz": 480
    },
    "id": "1shjX-CW18_s"
   },
   "outputs": [],
   "source": [
    "# Create a dictionary of variations to new flavour label\n",
    "mapping_dict = {\n",
    "    'cheese': 'Cheese',\n",
    "    'rings': 'Cheese',\n",
    "    'puffs': 'Cheese',\n",
    "    'original': 'Original',\n",
    "    'potatochips': 'Original',\n",
    "    'orgnl': 'Original',\n",
    "    'originlsaltd': 'Original',\n",
    "    'chicken': 'Chicken',\n",
    "    'chickensalt': 'Chicken',\n",
    "    'salt&vinegar': 'Salt & Vinegar',\n",
    "    'sltvingar': 'Salt & Vinegar',\n",
    "    'salt/vinegr': 'Salt & Vinegar',\n",
    "    'swt/chlli&sr/cream': 'Sweet Chili & Sour Cream',\n",
    "    'sweetchilli&sourcream': 'Sweet Chili & Sour Cream',\n",
    "    'swtchli&s/cream': 'Sweet Chili & Sour Cream',\n",
    "    'barbeque': 'Barbecue',\n",
    "    'bbqribprawncrackers': 'Barbecue',\n",
    "    'barbecue': 'Barbecue',\n",
    "    'sweet&spcybbq': 'Barbecue',\n",
    "    'sourcreamonion': 'French Sour Cream & Onion',\n",
    "    'sourcream&onionstackedchips': 'French Sour Cream & Onion',\n",
    "    's/cream&onion': 'French Sour Cream & Onion',\n",
    "    'frenchoniondip': 'French Sour Cream & Onion',\n",
    "    'frch/onin': 'French Sour Cream & Onion',\n",
    "    'sourcrm&chives': 'Sour Cream & Herbs/Chives',\n",
    "    'sourcream&herbs': 'Sour Cream & Herbs/Chives',\n",
    "    'sourcream&chives': 'Sour Cream & Herbs/Chives',\n",
    "    'sourcream&gardenchives': 'Sour Cream & Herbs/Chives'\n",
    "}\n",
    "\n",
    "# Replace values in the 'FLAVOURS' column based on the mapping dictionary\n",
    "df['FLAVOURS'] = df['FLAVOURS'].replace(mapping_dict)"
   ]
  },
  {
   "cell_type": "code",
   "execution_count": 19,
   "metadata": {
    "colab": {
     "base_uri": "https://localhost:8080/"
    },
    "executionInfo": {
     "elapsed": 4,
     "status": "ok",
     "timestamp": 1704505694221,
     "user": {
      "displayName": "CHRISTI MARIAM DENNY",
      "userId": "07385360295014298325"
     },
     "user_tz": 480
    },
    "id": "f_n2fSjNd23K",
    "outputId": "00cdf8aa-00d0-4891-9e05-766a879b9bb6"
   },
   "outputs": [
    {
     "data": {
      "text/plain": [
       "[['Original', 30881],\n",
       " ['Cheese', 24732],\n",
       " ['salsa', 18094],\n",
       " ['seasalt', 15613],\n",
       " ['chilli', 13874],\n",
       " ['Salt & Vinegar', 13764],\n",
       " ['Barbecue', 11050],\n",
       " ['Sour Cream & Herbs/Chives', 10817],\n",
       " ['Chicken', 9225],\n",
       " ['French Sour Cream & Onion', 8988],\n",
       " ['lightlysalted', 6248],\n",
       " ['Sweet Chili & Sour Cream', 6246],\n",
       " ['honeysoychicken', 4661],\n",
       " ['nachocheese', 4658],\n",
       " ['mozzarellabasil&pesto', 3304],\n",
       " ['chpshny&jlpnochili', 3296],\n",
       " ['ched&chives', 3268],\n",
       " ['lime', 3252],\n",
       " ['thaisweetchili', 3242],\n",
       " ['camembert&fig', 3219],\n",
       " ['mexicanjalapeno', 3204],\n",
       " ['tangy', 3188],\n",
       " ['cornchpsupreme', 3185],\n",
       " ['southernchicken', 3172],\n",
       " ['chpsbtroot&ricotta', 3146],\n",
       " ['smokedchipotle', 3145],\n",
       " ['tangygcamole', 3144],\n",
       " ['chpsfeta&garlic', 3138],\n",
       " ['sirachalime', 3127],\n",
       " ['mexicana', 3115],\n",
       " ['mysteryflavour', 3114],\n",
       " ['seasonedchicken', 3114],\n",
       " ['bbq&maple', 3083],\n",
       " ['sthrnfriedchicken', 3083],\n",
       " ['cheddr&mstrd', 1576],\n",
       " ['tmatohrb&spce', 1572],\n",
       " ['slowrstporkbelly', 1526],\n",
       " ['roastchicken', 1519],\n",
       " ['macncheese', 1512],\n",
       " ['mangochutny', 1507],\n",
       " ['snag&sauce', 1503],\n",
       " ['salt&truffle', 1498],\n",
       " ['chs&onion', 1481],\n",
       " ['chs&bacon', 1479],\n",
       " ['lime&pepper', 1473],\n",
       " ['honysoychckn', 1460],\n",
       " ['steak&chimuchurri', 1455],\n",
       " ['bolognese', 1451],\n",
       " ['chikn&garlicaioli', 1434]]"
      ]
     },
     "execution_count": 19,
     "metadata": {},
     "output_type": "execute_result"
    }
   ],
   "source": [
    "# Count the number of flavours\n",
    "flavours_counts = df['FLAVOURS'].value_counts().reset_index()\n",
    "\n",
    "# Convert the result to a list\n",
    "flavours_counts_list = flavours_counts.values.tolist()\n",
    "\n",
    "# Print the list\n",
    "flavours_counts_list"
   ]
  },
  {
   "cell_type": "markdown",
   "metadata": {
    "id": "g0SOQMKzKdaZ"
   },
   "source": [
    "Now each transaction line is associated with a unique chip flavour!"
   ]
  },
  {
   "cell_type": "markdown",
   "metadata": {
    "id": "vp3rhGozQGwX"
   },
   "source": [
    "With all our variables in line, let's check for duplicate values."
   ]
  },
  {
   "cell_type": "code",
   "execution_count": 20,
   "metadata": {
    "colab": {
     "base_uri": "https://localhost:8080/",
     "height": 118
    },
    "executionInfo": {
     "elapsed": 174,
     "status": "ok",
     "timestamp": 1704505694393,
     "user": {
      "displayName": "CHRISTI MARIAM DENNY",
      "userId": "07385360295014298325"
     },
     "user_tz": 480
    },
    "id": "8eXWisSBLU4F",
    "outputId": "39fd6b93-a14d-4e4c-cebc-cc759e0e2941"
   },
   "outputs": [
    {
     "data": {
      "text/html": [
       "\n",
       "  <div id=\"df-a1f7c20c-88cb-44f1-9b75-f11bfc2de363\" class=\"colab-df-container\">\n",
       "    <div>\n",
       "<style scoped>\n",
       "    .dataframe tbody tr th:only-of-type {\n",
       "        vertical-align: middle;\n",
       "    }\n",
       "\n",
       "    .dataframe tbody tr th {\n",
       "        vertical-align: top;\n",
       "    }\n",
       "\n",
       "    .dataframe thead th {\n",
       "        text-align: right;\n",
       "    }\n",
       "</style>\n",
       "<table border=\"1\" class=\"dataframe\">\n",
       "  <thead>\n",
       "    <tr style=\"text-align: right;\">\n",
       "      <th></th>\n",
       "      <th>LYLTY_CARD_NBR</th>\n",
       "      <th>LIFESTAGE</th>\n",
       "      <th>PREMIUM_CUSTOMER</th>\n",
       "      <th>DATE</th>\n",
       "      <th>STORE_NBR</th>\n",
       "      <th>TXN_ID</th>\n",
       "      <th>PROD_NBR</th>\n",
       "      <th>PROD_NAME</th>\n",
       "      <th>PROD_QTY</th>\n",
       "      <th>TOT_SALES</th>\n",
       "      <th>PACK_SIZE_GRAMS</th>\n",
       "      <th>BRAND</th>\n",
       "      <th>FLAVOURS</th>\n",
       "    </tr>\n",
       "  </thead>\n",
       "  <tbody>\n",
       "    <tr>\n",
       "      <th>106249</th>\n",
       "      <td>107024</td>\n",
       "      <td>OLDER SINGLES/COUPLES</td>\n",
       "      <td>Premium</td>\n",
       "      <td>2018-10-01</td>\n",
       "      <td>107</td>\n",
       "      <td>108462</td>\n",
       "      <td>45</td>\n",
       "      <td>thinlycutroastchicken</td>\n",
       "      <td>2</td>\n",
       "      <td>6.0</td>\n",
       "      <td>NaN</td>\n",
       "      <td>Smiths</td>\n",
       "      <td>roastchicken</td>\n",
       "    </tr>\n",
       "  </tbody>\n",
       "</table>\n",
       "</div>\n",
       "    <div class=\"colab-df-buttons\">\n",
       "\n",
       "  <div class=\"colab-df-container\">\n",
       "    <button class=\"colab-df-convert\" onclick=\"convertToInteractive('df-a1f7c20c-88cb-44f1-9b75-f11bfc2de363')\"\n",
       "            title=\"Convert this dataframe to an interactive table.\"\n",
       "            style=\"display:none;\">\n",
       "\n",
       "  <svg xmlns=\"http://www.w3.org/2000/svg\" height=\"24px\" viewBox=\"0 -960 960 960\">\n",
       "    <path d=\"M120-120v-720h720v720H120Zm60-500h600v-160H180v160Zm220 220h160v-160H400v160Zm0 220h160v-160H400v160ZM180-400h160v-160H180v160Zm440 0h160v-160H620v160ZM180-180h160v-160H180v160Zm440 0h160v-160H620v160Z\"/>\n",
       "  </svg>\n",
       "    </button>\n",
       "\n",
       "  <style>\n",
       "    .colab-df-container {\n",
       "      display:flex;\n",
       "      gap: 12px;\n",
       "    }\n",
       "\n",
       "    .colab-df-convert {\n",
       "      background-color: #E8F0FE;\n",
       "      border: none;\n",
       "      border-radius: 50%;\n",
       "      cursor: pointer;\n",
       "      display: none;\n",
       "      fill: #1967D2;\n",
       "      height: 32px;\n",
       "      padding: 0 0 0 0;\n",
       "      width: 32px;\n",
       "    }\n",
       "\n",
       "    .colab-df-convert:hover {\n",
       "      background-color: #E2EBFA;\n",
       "      box-shadow: 0px 1px 2px rgba(60, 64, 67, 0.3), 0px 1px 3px 1px rgba(60, 64, 67, 0.15);\n",
       "      fill: #174EA6;\n",
       "    }\n",
       "\n",
       "    .colab-df-buttons div {\n",
       "      margin-bottom: 4px;\n",
       "    }\n",
       "\n",
       "    [theme=dark] .colab-df-convert {\n",
       "      background-color: #3B4455;\n",
       "      fill: #D2E3FC;\n",
       "    }\n",
       "\n",
       "    [theme=dark] .colab-df-convert:hover {\n",
       "      background-color: #434B5C;\n",
       "      box-shadow: 0px 1px 3px 1px rgba(0, 0, 0, 0.15);\n",
       "      filter: drop-shadow(0px 1px 2px rgba(0, 0, 0, 0.3));\n",
       "      fill: #FFFFFF;\n",
       "    }\n",
       "  </style>\n",
       "\n",
       "    <script>\n",
       "      const buttonEl =\n",
       "        document.querySelector('#df-a1f7c20c-88cb-44f1-9b75-f11bfc2de363 button.colab-df-convert');\n",
       "      buttonEl.style.display =\n",
       "        google.colab.kernel.accessAllowed ? 'block' : 'none';\n",
       "\n",
       "      async function convertToInteractive(key) {\n",
       "        const element = document.querySelector('#df-a1f7c20c-88cb-44f1-9b75-f11bfc2de363');\n",
       "        const dataTable =\n",
       "          await google.colab.kernel.invokeFunction('convertToInteractive',\n",
       "                                                    [key], {});\n",
       "        if (!dataTable) return;\n",
       "\n",
       "        const docLinkHtml = 'Like what you see? Visit the ' +\n",
       "          '<a target=\"_blank\" href=https://colab.research.google.com/notebooks/data_table.ipynb>data table notebook</a>'\n",
       "          + ' to learn more about interactive tables.';\n",
       "        element.innerHTML = '';\n",
       "        dataTable['output_type'] = 'display_data';\n",
       "        await google.colab.output.renderOutput(dataTable, element);\n",
       "        const docLink = document.createElement('div');\n",
       "        docLink.innerHTML = docLinkHtml;\n",
       "        element.appendChild(docLink);\n",
       "      }\n",
       "    </script>\n",
       "  </div>\n",
       "\n",
       "\n",
       "    </div>\n",
       "  </div>\n"
      ],
      "text/plain": [
       "        LYLTY_CARD_NBR              LIFESTAGE PREMIUM_CUSTOMER       DATE  \\\n",
       "106249          107024  OLDER SINGLES/COUPLES          Premium 2018-10-01   \n",
       "\n",
       "        STORE_NBR  TXN_ID  PROD_NBR              PROD_NAME  PROD_QTY  \\\n",
       "106249        107  108462        45  thinlycutroastchicken         2   \n",
       "\n",
       "        TOT_SALES PACK_SIZE_GRAMS   BRAND      FLAVOURS  \n",
       "106249        6.0             NaN  Smiths  roastchicken  "
      ]
     },
     "execution_count": 20,
     "metadata": {},
     "output_type": "execute_result"
    }
   ],
   "source": [
    "# Save duplicate rows in a new dataframe\n",
    "duplicates = df[df.duplicated()]\n",
    "\n",
    "# Display the first 10 duplicate rows\n",
    "duplicates.head(10)"
   ]
  },
  {
   "cell_type": "markdown",
   "metadata": {
    "id": "ZkaVxCuBPUB0"
   },
   "source": [
    "There is one duplicate row recording the same customer and transaction line data. This may have been due to an error in the transaction, so let's drop one of the duplicates and keep the first."
   ]
  },
  {
   "cell_type": "code",
   "execution_count": 21,
   "metadata": {
    "executionInfo": {
     "elapsed": 234,
     "status": "ok",
     "timestamp": 1704505694624,
     "user": {
      "displayName": "CHRISTI MARIAM DENNY",
      "userId": "07385360295014298325"
     },
     "user_tz": 480
    },
    "id": "_kP754mRPkF7"
   },
   "outputs": [],
   "source": [
    "# Drop the duplicate row from the dataframe\n",
    "df = df.drop_duplicates()"
   ]
  },
  {
   "cell_type": "markdown",
   "metadata": {
    "id": "Kc8SpOf2Qhep"
   },
   "source": [
    "Finally, let's check for any null values."
   ]
  },
  {
   "cell_type": "code",
   "execution_count": 22,
   "metadata": {
    "colab": {
     "base_uri": "https://localhost:8080/"
    },
    "executionInfo": {
     "elapsed": 131,
     "status": "ok",
     "timestamp": 1704505694753,
     "user": {
      "displayName": "CHRISTI MARIAM DENNY",
      "userId": "07385360295014298325"
     },
     "user_tz": 480
    },
    "id": "boxv1DiRQgx5",
    "outputId": "fd6798e7-c62c-47b9-cf63-e6e7ba78be61"
   },
   "outputs": [
    {
     "name": "stdout",
     "output_type": "stream",
     "text": [
      "<class 'pandas.core.frame.DataFrame'>\n",
      "Int64Index: 264835 entries, 0 to 264835\n",
      "Data columns (total 13 columns):\n",
      " #   Column            Non-Null Count   Dtype         \n",
      "---  ------            --------------   -----         \n",
      " 0   LYLTY_CARD_NBR    264835 non-null  int64         \n",
      " 1   LIFESTAGE         264835 non-null  object        \n",
      " 2   PREMIUM_CUSTOMER  264835 non-null  object        \n",
      " 3   DATE              264835 non-null  datetime64[ns]\n",
      " 4   STORE_NBR         264835 non-null  int64         \n",
      " 5   TXN_ID            264835 non-null  int64         \n",
      " 6   PROD_NBR          264835 non-null  int64         \n",
      " 7   PROD_NAME         264835 non-null  object        \n",
      " 8   PROD_QTY          264835 non-null  int64         \n",
      " 9   TOT_SALES         264835 non-null  float64       \n",
      " 10  PACK_SIZE_GRAMS   0 non-null       object        \n",
      " 11  BRAND             264835 non-null  object        \n",
      " 12  FLAVOURS          264835 non-null  object        \n",
      "dtypes: datetime64[ns](1), float64(1), int64(5), object(6)\n",
      "memory usage: 28.3+ MB\n"
     ]
    }
   ],
   "source": [
    "df.info()"
   ]
  },
  {
   "cell_type": "markdown",
   "metadata": {
    "id": "_OegV2Z4QmIt"
   },
   "source": [
    "There doesn't appear to be any null values in any columns. Great! Our data is now ready for analysis."
   ]
  },
  {
   "cell_type": "markdown",
   "metadata": {
    "id": "N7fvSDmnQNSR"
   },
   "source": [
    "# **Data Exploration**\n",
    "To identify what problem we wish to solve, we must first perform exploratory data analysis with the updated dataset to see where we can find an opportunity for increased chip sales."
   ]
  },
  {
   "cell_type": "markdown",
   "metadata": {
    "id": "lh1Wf4dvTQLL"
   },
   "source": [
    "### **Examining continuous variables for outliers**\n",
    "\n",
    "The two key continuous variables of interest in this dataset are the total sales and quantities purchased. Let's plot a boxplot for each to spot any outliers."
   ]
  },
  {
   "cell_type": "code",
   "execution_count": 23,
   "metadata": {
    "colab": {
     "base_uri": "https://localhost:8080/",
     "height": 449
    },
    "executionInfo": {
     "elapsed": 721,
     "status": "ok",
     "timestamp": 1704505695472,
     "user": {
      "displayName": "CHRISTI MARIAM DENNY",
      "userId": "07385360295014298325"
     },
     "user_tz": 480
    },
    "id": "DsK6EWnWe1bS",
    "outputId": "526cfa11-4cf0-4759-ff9e-83598d5b5d09"
   },
   "outputs": [
    {
     "data": {
      "image/png": "[encoded data removed]",
      "text/plain": [
       "<Figure size 1000x500 with 2 Axes>"
      ]
     },
     "metadata": {},
     "output_type": "display_data"
    }
   ],
   "source": [
    "# Group total sales and quantities by customer\n",
    "grouped_df = df[['LYLTY_CARD_NBR','PROD_QTY','TOT_SALES']]\n",
    "grouped_df = grouped_df.groupby('LYLTY_CARD_NBR').sum()\n",
    "\n",
    "# Create a combined plot to display total quantity purchased and sales per customer\n",
    "fig, axes = plt.subplots(1, 2, figsize = (10,5))\n",
    "\n",
    "# Create a boxplot for the total quantity purchased per customer\n",
    "sns.boxplot(ax=axes[0], y=\"PROD_QTY\", data=grouped_df, palette='Greens').set(ylabel='Quantity')\n",
    "axes[0].set_title('Total quantity of chips purchased per customer')\n",
    "axes[0].set_yscale('log')\n",
    "\n",
    "# Create a boxplot of total sales per customer\n",
    "sns.boxplot(ax=axes[1], y='TOT_SALES', data=grouped_df, palette='Greens').set(ylabel='Sales')\n",
    "axes[1].set_title('Total sales of chips per customer')\n",
    "axes[1].set_yscale('log')"
   ]
  },
  {
   "cell_type": "markdown",
   "metadata": {
    "id": "xff6mNvVTTui"
   },
   "source": [
    "It looks like there are a few outliers in the total quantity of chips purchased  and total sales of chips per customer. This is good to keep in mind. For now, we will keep outliers in our dataset, as it is valuable for the supermarket to understand the full range of purchasing behaviour of their customers."
   ]
  },
  {
   "cell_type": "markdown",
   "metadata": {
    "id": "lde3txicUpVm"
   },
   "source": [
    "### **Distribution of customer segments**\n",
    "\n",
    "The dataset has classified customers based on their membership type and lifestage. It would be of interest to understand the distribution of customers into these segments."
   ]
  },
  {
   "cell_type": "code",
   "execution_count": 24,
   "metadata": {
    "colab": {
     "base_uri": "https://localhost:8080/",
     "height": 614
    },
    "executionInfo": {
     "elapsed": 638,
     "status": "ok",
     "timestamp": 1704505696107,
     "user": {
      "displayName": "CHRISTI MARIAM DENNY",
      "userId": "07385360295014298325"
     },
     "user_tz": 480
    },
    "id": "JfJ4WH-rmHKF",
    "outputId": "60a61bbf-e1d2-430b-d54e-1fb72d5412fb"
   },
   "outputs": [
    {
     "data": {
      "image/png": "[encoded data removed]",
      "text/plain": [
       "<Figure size 1500x500 with 2 Axes>"
      ]
     },
     "metadata": {},
     "output_type": "display_data"
    }
   ],
   "source": [
    "# Count number of customers by membership type\n",
    "membership_count = df.groupby('PREMIUM_CUSTOMER')['LYLTY_CARD_NBR'].nunique().reset_index()\n",
    "\n",
    "# Count number of customers by lifestage\n",
    "lifestage_count = df.groupby('LIFESTAGE')['LYLTY_CARD_NBR'].nunique().reset_index()\n",
    "lifestage_count.sort_values(by='LYLTY_CARD_NBR', inplace=True)\n",
    "\n",
    "# Setting the aesthetic style of the plots\n",
    "sns.set(style=\"whitegrid\")\n",
    "\n",
    "# Create a combined plot to display the number of customers in each segment\n",
    "fig, axes = plt.subplots(1,2, figsize=(15,5))\n",
    "\n",
    "# Plot number of customers by membership\n",
    "sns.barplot(ax=axes[0], data=membership_count, x='PREMIUM_CUSTOMER', y='LYLTY_CARD_NBR', palette='Greens')\n",
    "axes[0].set_title('Total Customers by Membership Type')\n",
    "axes[0].set_xlabel('')\n",
    "axes[0].set_ylabel('Total Customers')\n",
    "axes[0].set_xticklabels(axes[0].get_xticklabels(), rotation=45, ha='right')\n",
    "\n",
    "# Plot number of customers by lifestage\n",
    "sns.barplot(ax=axes[1], data=lifestage_count, x='LIFESTAGE', y='LYLTY_CARD_NBR', palette='Greens')\n",
    "axes[1].set_title('Total Customers by Lifestage')\n",
    "axes[1].set_xlabel('')\n",
    "axes[1].set_ylabel('')\n",
    "axes[1].set_xticklabels(axes[1].get_xticklabels(), rotation=45, ha='right')\n",
    "axes[1].get_xaxis().set_visible(True)"
   ]
  },
  {
   "cell_type": "markdown",
   "metadata": {
    "id": "TTN1uDWUaCHY"
   },
   "source": [
    "From the plots above, it seems that there are more mainstream membership types than budget membership types. Premium memberships make up the smallest number.\n",
    "\n",
    "Retirees, older singles/couples, and young single/couples are the largest customer segments based on lifestage. Families of all ages and midage singles/couples make up a smaller segment. New families are the smallest lifestage segment."
   ]
  },
  {
   "cell_type": "markdown",
   "metadata": {
    "id": "Pb87BwzCbe-D"
   },
   "source": [
    "# **Data Analysis**\n",
    "With the understanding that chips are an everyday grocery item that most of us are already aware of, the main goal of any further analysis was to identify **an opportunity to boost revenue within a customer segment where chip sales are lacking**."
   ]
  },
  {
   "cell_type": "markdown",
   "metadata": {
    "id": "J6SpuxMTX-zC"
   },
   "source": [
    "## **Segmentation**\n",
    "Having illustrated the distribution of each segment, we sought to understand how each segment differed from each other in chip purchasing behaviour."
   ]
  },
  {
   "cell_type": "markdown",
   "metadata": {
    "id": "Hd9IikQJZT0q"
   },
   "source": [
    "### **Purchasing behaviour based on membership type**\n",
    "\n",
    "First, let's examine how total sales per customer may be associated with membership type."
   ]
  },
  {
   "cell_type": "code",
   "execution_count": 25,
   "metadata": {
    "colab": {
     "base_uri": "https://localhost:8080/",
     "height": 314
    },
    "executionInfo": {
     "elapsed": 258,
     "status": "ok",
     "timestamp": 1704505696362,
     "user": {
      "displayName": "CHRISTI MARIAM DENNY",
      "userId": "07385360295014298325"
     },
     "user_tz": 480
    },
    "id": "zFUGmhFCgV1W",
    "outputId": "a24467ae-43e2-4562-de32-daef98b47f17"
   },
   "outputs": [
    {
     "data": {
      "text/plain": [
       "Text(0.5, 0, '')"
      ]
     },
     "execution_count": 25,
     "metadata": {},
     "output_type": "execute_result"
    },
    {
     "data": {
      "image/png": "[encoded data removed]",
      "text/plain": [
       "<Figure size 500x300 with 1 Axes>"
      ]
     },
     "metadata": {},
     "output_type": "display_data"
    }
   ],
   "source": [
    "# Calculate the total sales per customer\n",
    "avg_sales = df.groupby(['LYLTY_CARD_NBR','PREMIUM_CUSTOMER'])['TOT_SALES'].sum().reset_index()\n",
    "\n",
    "# Plot a boxplot of total sales per customer by membership type\n",
    "plt.figure(figsize=(5,3))\n",
    "sns.boxplot(y=\"TOT_SALES\", x='PREMIUM_CUSTOMER', data=avg_sales, palette='Greens')\n",
    "plt.ylabel('Sales')\n",
    "plt.xlabel('')"
   ]
  },
  {
   "cell_type": "markdown",
   "metadata": {
    "id": "taSekqQdq5BX"
   },
   "source": [
    "There appears to be one outlier who bought more than 1250 chip packets. Let's remove them for the purposes of this analysis. This will prevent their data from skewing the results of the ANOVA, and overestimating the true difference in sales between groups."
   ]
  },
  {
   "cell_type": "code",
   "execution_count": 26,
   "metadata": {
    "colab": {
     "base_uri": "https://localhost:8080/"
    },
    "executionInfo": {
     "elapsed": 4,
     "status": "ok",
     "timestamp": 1704505696362,
     "user": {
      "displayName": "CHRISTI MARIAM DENNY",
      "userId": "07385360295014298325"
     },
     "user_tz": 480
    },
    "id": "l1UCeLhCrBxv",
    "outputId": "74f54383-57eb-43a3-a594-a9258de9cb2a"
   },
   "outputs": [
    {
     "name": "stdout",
     "output_type": "stream",
     "text": [
      "(array([59694]),)\n"
     ]
    }
   ],
   "source": [
    "# Identify the index of the outlier\n",
    "print(np.where(avg_sales['TOT_SALES']>1200))"
   ]
  },
  {
   "cell_type": "code",
   "execution_count": 27,
   "metadata": {
    "colab": {
     "base_uri": "https://localhost:8080/",
     "height": 336
    },
    "executionInfo": {
     "elapsed": 220,
     "status": "ok",
     "timestamp": 1704505696579,
     "user": {
      "displayName": "CHRISTI MARIAM DENNY",
      "userId": "07385360295014298325"
     },
     "user_tz": 480
    },
    "id": "ZEbJu3ckrGPE",
    "outputId": "5b805f46-bf81-485a-aeee-33886dcba4ff"
   },
   "outputs": [
    {
     "data": {
      "text/plain": [
       "Text(0.5, 1.0, 'Total sales per customer by membership type')"
      ]
     },
     "execution_count": 27,
     "metadata": {},
     "output_type": "execute_result"
    },
    {
     "data": {
      "image/png": "[encoded data removed]",
      "text/plain": [
       "<Figure size 500x300 with 1 Axes>"
      ]
     },
     "metadata": {},
     "output_type": "display_data"
    }
   ],
   "source": [
    "# Remove index 59694\n",
    "avg_sales_2 = avg_sales.drop(59694)\n",
    "\n",
    "# Plot an updated boxplot without the outlier\n",
    "plt.figure(figsize=(5,3))\n",
    "sns.boxplot(y=\"TOT_SALES\", x='PREMIUM_CUSTOMER', data=avg_sales_2, palette='Greens')\n",
    "plt.ylabel('Sales')\n",
    "plt.xlabel('')\n",
    "plt.title('Total sales per customer by membership type')"
   ]
  },
  {
   "cell_type": "code",
   "execution_count": 28,
   "metadata": {
    "colab": {
     "base_uri": "https://localhost:8080/"
    },
    "executionInfo": {
     "elapsed": 170,
     "status": "ok",
     "timestamp": 1704505696746,
     "user": {
      "displayName": "CHRISTI MARIAM DENNY",
      "userId": "07385360295014298325"
     },
     "user_tz": 480
    },
    "id": "mk6f5khGrc0q",
    "outputId": "dda22d25-f91f-4897-be3a-cc5b51bb896d"
   },
   "outputs": [
    {
     "name": "stdout",
     "output_type": "stream",
     "text": [
      "                        sum_sq       df          F        PR(>F)  Eta-squared\n",
      "PREMIUM_CUSTOMER  5.184184e+04      2.0  63.189106  3.812124e-28     0.001737\n",
      "Residual          2.979492e+07  72633.0        NaN           NaN     0.001737\n"
     ]
    }
   ],
   "source": [
    "# Fit an ANOVA model to test for the association between membership type and total sales per customer\n",
    "sales_mod = ols('TOT_SALES ~ PREMIUM_CUSTOMER', data = avg_sales_2).fit()\n",
    "sales_table = sm.stats.anova_lm(sales_mod, typ=2)\n",
    "\n",
    "# Calculate Eta-squared as the effect size\n",
    "# Eta-squared = SS_between / SS_total\n",
    "ss_between = sales_table['sum_sq']['PREMIUM_CUSTOMER']\n",
    "ss_total = sales_table['sum_sq']['Residual'] + ss_between\n",
    "eta_squared = ss_between / ss_total\n",
    "\n",
    "# Add Eta-squared to the ANOVA table\n",
    "sales_table['Eta-squared'] = eta_squared\n",
    "\n",
    "# Print the ANOVA table with effect size\n",
    "print(sales_table)"
   ]
  },
  {
   "cell_type": "markdown",
   "metadata": {
    "id": "wg_zrD9KrmTI"
   },
   "source": [
    "At first glance, it appears there may be a significant association between membership type and total sales per customer. However, upon further inspection of the effect size of 0.002, we realize that the effect size of membership type on total sales is very small. The significant association may have likely been a result of the large sample size. Visual inspection of the box plot above also suggests there may not be a practical difference between total sales per customer based on membership type.\n",
    "\n",
    "Let's see if we get a similar finding with total quantity purchased per customer."
   ]
  },
  {
   "cell_type": "code",
   "execution_count": 29,
   "metadata": {
    "colab": {
     "base_uri": "https://localhost:8080/",
     "height": 314
    },
    "executionInfo": {
     "elapsed": 240,
     "status": "ok",
     "timestamp": 1704505696983,
     "user": {
      "displayName": "CHRISTI MARIAM DENNY",
      "userId": "07385360295014298325"
     },
     "user_tz": 480
    },
    "id": "lPJq_NGct6q1",
    "outputId": "e6cd4154-c6ed-4ce6-8b0e-ae9d87fa5853"
   },
   "outputs": [
    {
     "data": {
      "text/plain": [
       "Text(0.5, 0, '')"
      ]
     },
     "execution_count": 29,
     "metadata": {},
     "output_type": "execute_result"
    },
    {
     "data": {
      "image/png": "[encoded data removed]",
      "text/plain": [
       "<Figure size 500x300 with 1 Axes>"
      ]
     },
     "metadata": {},
     "output_type": "display_data"
    }
   ],
   "source": [
    "# Calculate the total quantity purchased per customer\n",
    "avg_qty = df.groupby(['LYLTY_CARD_NBR','PREMIUM_CUSTOMER'])['PROD_QTY'].sum().reset_index()\n",
    "\n",
    "# Plot a boxplot of total sales per customer by membership type\n",
    "plt.figure(figsize=(5,3))\n",
    "sns.boxplot(y=\"PROD_QTY\", x='PREMIUM_CUSTOMER', data=avg_qty, palette='Greens')\n",
    "plt.ylabel('Quantity')\n",
    "plt.xlabel('')"
   ]
  },
  {
   "cell_type": "markdown",
   "metadata": {
    "id": "slk5C5xSuFiU"
   },
   "source": [
    "Again, there seems to be one outlier in the premium membership type segment who purchased more than 350 chip packets. Let's identify and remove them for this analysis."
   ]
  },
  {
   "cell_type": "code",
   "execution_count": 30,
   "metadata": {
    "colab": {
     "base_uri": "https://localhost:8080/"
    },
    "executionInfo": {
     "elapsed": 4,
     "status": "ok",
     "timestamp": 1704505696983,
     "user": {
      "displayName": "CHRISTI MARIAM DENNY",
      "userId": "07385360295014298325"
     },
     "user_tz": 480
    },
    "id": "IOZe1Uqiughe",
    "outputId": "cfe865d0-b5d3-4c3f-a961-30281db11d3b"
   },
   "outputs": [
    {
     "name": "stdout",
     "output_type": "stream",
     "text": [
      "(array([59694]),)\n"
     ]
    }
   ],
   "source": [
    "# Identify the index of the outlier\n",
    "print(np.where(avg_qty['PROD_QTY']>350))"
   ]
  },
  {
   "cell_type": "code",
   "execution_count": 31,
   "metadata": {
    "colab": {
     "base_uri": "https://localhost:8080/",
     "height": 336
    },
    "executionInfo": {
     "elapsed": 147,
     "status": "ok",
     "timestamp": 1704505697127,
     "user": {
      "displayName": "CHRISTI MARIAM DENNY",
      "userId": "07385360295014298325"
     },
     "user_tz": 480
    },
    "id": "oNylm053umBX",
    "outputId": "4b583f07-0053-4168-cd79-e2393e3e2d91"
   },
   "outputs": [
    {
     "data": {
      "text/plain": [
       "Text(0.5, 1.0, 'Quantity purchased per customer by membership type')"
      ]
     },
     "execution_count": 31,
     "metadata": {},
     "output_type": "execute_result"
    },
    {
     "data": {
      "image/png": "[encoded data removed]",
      "text/plain": [
       "<Figure size 500x300 with 1 Axes>"
      ]
     },
     "metadata": {},
     "output_type": "display_data"
    }
   ],
   "source": [
    "# Remove index 59694\n",
    "avg_qty_2 = avg_qty.drop(59694)\n",
    "\n",
    "# Plot an updated boxplot without the outlier\n",
    "plt.figure(figsize=(5,3))\n",
    "sns.boxplot(y=\"PROD_QTY\", x='PREMIUM_CUSTOMER', data=avg_qty_2, palette='Greens')\n",
    "plt.ylabel('Quantity')\n",
    "plt.xlabel('')\n",
    "plt.title('Quantity purchased per customer by membership type')"
   ]
  },
  {
   "cell_type": "code",
   "execution_count": 32,
   "metadata": {
    "colab": {
     "base_uri": "https://localhost:8080/"
    },
    "executionInfo": {
     "elapsed": 123,
     "status": "ok",
     "timestamp": 1704505697248,
     "user": {
      "displayName": "CHRISTI MARIAM DENNY",
      "userId": "07385360295014298325"
     },
     "user_tz": 480
    },
    "id": "pSJ2Ok85utuZ",
    "outputId": "1097654b-f121-4fcd-c412-ad5234250f1a"
   },
   "outputs": [
    {
     "name": "stdout",
     "output_type": "stream",
     "text": [
      "                        sum_sq       df          F        PR(>F)  Eta-squared\n",
      "PREMIUM_CUSTOMER  5.553416e+03      2.0  95.554654  3.594516e-42     0.002624\n",
      "Residual          2.110631e+06  72633.0        NaN           NaN     0.002624\n"
     ]
    }
   ],
   "source": [
    "# Fit an ANOVA model to test for the association between membership type and total sales per customer\n",
    "qty_mod = ols('PROD_QTY ~ PREMIUM_CUSTOMER', data = avg_qty_2).fit()\n",
    "qty_table = sm.stats.anova_lm(qty_mod, typ=2)\n",
    "\n",
    "# Calculate Eta-squared as the effect size\n",
    "# Eta-squared = SS_between / SS_total\n",
    "ss_between = qty_table['sum_sq']['PREMIUM_CUSTOMER']\n",
    "ss_total = qty_table['sum_sq']['Residual'] + ss_between\n",
    "eta_squared = ss_between / ss_total\n",
    "\n",
    "# Add Eta-squared to the ANOVA table\n",
    "qty_table['Eta-squared'] = eta_squared\n",
    "\n",
    "# Print the ANOVA table with effect size\n",
    "print(qty_table)"
   ]
  },
  {
   "cell_type": "markdown",
   "metadata": {
    "id": "NGHHg8YYu5GM"
   },
   "source": [
    "Similar to the ANOVA results of sales per customer by membership type, a significant p-value was derived, but very small effect sizes are observed. A similar conclusion can be made with the boxplot suggesting that there may not be a practical difference in total quantity per customer between membership types.\n",
    "\n",
    "What this implies is that even though the average customer with a premium membership may spend more on their membership and spend more at the supermarket overall, they are not buying more chips, or spending more chips, than the average customer with a budget or mainstream membership."
   ]
  },
  {
   "cell_type": "markdown",
   "metadata": {
    "id": "VMkmqkm2Vs0H"
   },
   "source": [
    "### **Purchasing behaviour based on lifestage**\n",
    "To narrow our target group, let's dive deeper into the average spending among different lifestage segments within customers with premium memberships."
   ]
  },
  {
   "cell_type": "code",
   "execution_count": 33,
   "metadata": {
    "colab": {
     "base_uri": "https://localhost:8080/",
     "height": 419
    },
    "executionInfo": {
     "elapsed": 441,
     "status": "ok",
     "timestamp": 1704505697688,
     "user": {
      "displayName": "CHRISTI MARIAM DENNY",
      "userId": "07385360295014298325"
     },
     "user_tz": 480
    },
    "id": "GlIKMvXovnZU",
    "outputId": "36bc99d8-9819-46c0-9f80-b0c1a51b05d1"
   },
   "outputs": [
    {
     "data": {
      "image/png": "[encoded data removed]",
      "text/plain": [
       "<Figure size 1000x400 with 1 Axes>"
      ]
     },
     "metadata": {},
     "output_type": "display_data"
    }
   ],
   "source": [
    "# Subset the dataframe to include only customers with premium memberships\n",
    "df_premium = df[df['PREMIUM_CUSTOMER'] == 'Premium']\n",
    "\n",
    "# Store the total sales per premium customer by lifestage in a new dataframe\n",
    "df1 = df_premium.groupby(['LYLTY_CARD_NBR','LIFESTAGE'])['TOT_SALES'].sum().reset_index()\n",
    "df2 = df1.groupby('LIFESTAGE')['TOT_SALES'].mean().reset_index()\n",
    "df2.sort_values(by='TOT_SALES', inplace=True)\n",
    "\n",
    "# Create a horizontal bar plot\n",
    "sns.set(style=\"whitegrid\")\n",
    "plt.figure(figsize=(10, 4))\n",
    "ax = sns.barplot(x='TOT_SALES', y='LIFESTAGE', data=df2, palette='Greens')\n",
    "ax.set(xlabel='Sales per customer', ylabel='',\n",
    "       title='Sales per customer with premium memberships by lifestage')\n",
    "\n",
    "# Show the plot\n",
    "plt.show()"
   ]
  },
  {
   "cell_type": "markdown",
   "metadata": {
    "id": "5FB4N1jXLqrO"
   },
   "source": [
    "From the barplot above, it is apparent that young singles/couples and new families with premium memberships contribute the least in chip sales per customer within the premium membership customer segment."
   ]
  },
  {
   "cell_type": "markdown",
   "metadata": {
    "id": "Kcr9-9CFc1dc"
   },
   "source": [
    "## **Problem Identification**\n",
    "\n",
    "Based on our exploratory analysis of the segments, it has been observed that premium customers contribute the least to the revenue in the chips category. This presents a significant opportunity, as premium customers are generally characterized by their higher spending potential in other categories. The goal, therefore, is to enhance the sales of chips among this particular segment.\n",
    "\n",
    "Further analysis revealed that young singles/couples and new families contribute the least within the premium members segment. To address the unmet potential in chip sales, we recommend targetting this group in a lower-funnel marketing strategy to convert these customers into repeat customers of chips.\n",
    "\n",
    "To grow chip sales within this target group, we'll look closely at their favorite chip flavors, brands, and pack sizes.\n",
    "\n",
    "Our goal is to tap into their willingness to spend more, just as they do in other product categories. By focusing on what these valuable customers prefer, we plan to increase our chip sales and boost our overall earnings."
   ]
  },
  {
   "cell_type": "markdown",
   "metadata": {
    "id": "eAei5iGza6YD"
   },
   "source": [
    "## **Targeting**\n",
    "We have successfully identified the customer segments for the supermarket to target for marketing. These customers have premium memberships and are young singles or couples, and new families."
   ]
  },
  {
   "cell_type": "code",
   "execution_count": 34,
   "metadata": {
    "colab": {
     "base_uri": "https://localhost:8080/",
     "height": 349
    },
    "executionInfo": {
     "elapsed": 221,
     "status": "ok",
     "timestamp": 1704505697906,
     "user": {
      "displayName": "CHRISTI MARIAM DENNY",
      "userId": "07385360295014298325"
     },
     "user_tz": 480
    },
    "id": "O13OBC0bJLHC",
    "outputId": "d728808b-21e5-4555-d641-416b3bd64ccb"
   },
   "outputs": [
    {
     "name": "stderr",
     "output_type": "stream",
     "text": [
      "<ipython-input-34-9b136613cf88>:3: UserWarning: Boolean Series key will be reindexed to match DataFrame index.\n",
      "  target_df = target_df[(df.LIFESTAGE == 'YOUNG SINGLES/COUPLES')|\n"
     ]
    },
    {
     "data": {
      "text/html": [
       "\n",
       "  <div id=\"df-452eaef2-bf21-4a83-ac59-244f1291991f\" class=\"colab-df-container\">\n",
       "    <div>\n",
       "<style scoped>\n",
       "    .dataframe tbody tr th:only-of-type {\n",
       "        vertical-align: middle;\n",
       "    }\n",
       "\n",
       "    .dataframe tbody tr th {\n",
       "        vertical-align: top;\n",
       "    }\n",
       "\n",
       "    .dataframe thead th {\n",
       "        text-align: right;\n",
       "    }\n",
       "</style>\n",
       "<table border=\"1\" class=\"dataframe\">\n",
       "  <thead>\n",
       "    <tr style=\"text-align: right;\">\n",
       "      <th></th>\n",
       "      <th>LYLTY_CARD_NBR</th>\n",
       "      <th>LIFESTAGE</th>\n",
       "      <th>PREMIUM_CUSTOMER</th>\n",
       "      <th>DATE</th>\n",
       "      <th>STORE_NBR</th>\n",
       "      <th>TXN_ID</th>\n",
       "      <th>PROD_NBR</th>\n",
       "      <th>PROD_NAME</th>\n",
       "      <th>PROD_QTY</th>\n",
       "      <th>TOT_SALES</th>\n",
       "      <th>PACK_SIZE_GRAMS</th>\n",
       "      <th>BRAND</th>\n",
       "      <th>FLAVOURS</th>\n",
       "    </tr>\n",
       "  </thead>\n",
       "  <tbody>\n",
       "    <tr>\n",
       "      <th>0</th>\n",
       "      <td>1000</td>\n",
       "      <td>YOUNG SINGLES/COUPLES</td>\n",
       "      <td>Premium</td>\n",
       "      <td>2018-10-17</td>\n",
       "      <td>1</td>\n",
       "      <td>1</td>\n",
       "      <td>5</td>\n",
       "      <td>chipcompnyseasalt</td>\n",
       "      <td>2</td>\n",
       "      <td>6.0</td>\n",
       "      <td>NaN</td>\n",
       "      <td>Natural</td>\n",
       "      <td>seasalt</td>\n",
       "    </tr>\n",
       "    <tr>\n",
       "      <th>8</th>\n",
       "      <td>1009</td>\n",
       "      <td>NEW FAMILIES</td>\n",
       "      <td>Premium</td>\n",
       "      <td>2018-11-20</td>\n",
       "      <td>1</td>\n",
       "      <td>9</td>\n",
       "      <td>20</td>\n",
       "      <td>cheesesupreme</td>\n",
       "      <td>1</td>\n",
       "      <td>5.7</td>\n",
       "      <td>NaN</td>\n",
       "      <td>Doritos</td>\n",
       "      <td>Cheese</td>\n",
       "    </tr>\n",
       "    <tr>\n",
       "      <th>30</th>\n",
       "      <td>1024</td>\n",
       "      <td>YOUNG SINGLES/COUPLES</td>\n",
       "      <td>Premium</td>\n",
       "      <td>2019-02-20</td>\n",
       "      <td>1</td>\n",
       "      <td>31</td>\n",
       "      <td>5</td>\n",
       "      <td>chipcompnyseasalt</td>\n",
       "      <td>1</td>\n",
       "      <td>3.0</td>\n",
       "      <td>NaN</td>\n",
       "      <td>Natural</td>\n",
       "      <td>seasalt</td>\n",
       "    </tr>\n",
       "    <tr>\n",
       "      <th>41</th>\n",
       "      <td>1042</td>\n",
       "      <td>YOUNG SINGLES/COUPLES</td>\n",
       "      <td>Premium</td>\n",
       "      <td>2018-07-21</td>\n",
       "      <td>1</td>\n",
       "      <td>45</td>\n",
       "      <td>94</td>\n",
       "      <td>rings</td>\n",
       "      <td>1</td>\n",
       "      <td>2.3</td>\n",
       "      <td>NaN</td>\n",
       "      <td>Burger</td>\n",
       "      <td>Cheese</td>\n",
       "    </tr>\n",
       "    <tr>\n",
       "      <th>42</th>\n",
       "      <td>1042</td>\n",
       "      <td>YOUNG SINGLES/COUPLES</td>\n",
       "      <td>Premium</td>\n",
       "      <td>2019-02-12</td>\n",
       "      <td>1</td>\n",
       "      <td>46</td>\n",
       "      <td>63</td>\n",
       "      <td>swtpotseasalt</td>\n",
       "      <td>1</td>\n",
       "      <td>4.2</td>\n",
       "      <td>NaN</td>\n",
       "      <td>Kettle</td>\n",
       "      <td>seasalt</td>\n",
       "    </tr>\n",
       "  </tbody>\n",
       "</table>\n",
       "</div>\n",
       "    <div class=\"colab-df-buttons\">\n",
       "\n",
       "  <div class=\"colab-df-container\">\n",
       "    <button class=\"colab-df-convert\" onclick=\"convertToInteractive('df-452eaef2-bf21-4a83-ac59-244f1291991f')\"\n",
       "            title=\"Convert this dataframe to an interactive table.\"\n",
       "            style=\"display:none;\">\n",
       "\n",
       "  <svg xmlns=\"http://www.w3.org/2000/svg\" height=\"24px\" viewBox=\"0 -960 960 960\">\n",
       "    <path d=\"M120-120v-720h720v720H120Zm60-500h600v-160H180v160Zm220 220h160v-160H400v160Zm0 220h160v-160H400v160ZM180-400h160v-160H180v160Zm440 0h160v-160H620v160ZM180-180h160v-160H180v160Zm440 0h160v-160H620v160Z\"/>\n",
       "  </svg>\n",
       "    </button>\n",
       "\n",
       "  <style>\n",
       "    .colab-df-container {\n",
       "      display:flex;\n",
       "      gap: 12px;\n",
       "    }\n",
       "\n",
       "    .colab-df-convert {\n",
       "      background-color: #E8F0FE;\n",
       "      border: none;\n",
       "      border-radius: 50%;\n",
       "      cursor: pointer;\n",
       "      display: none;\n",
       "      fill: #1967D2;\n",
       "      height: 32px;\n",
       "      padding: 0 0 0 0;\n",
       "      width: 32px;\n",
       "    }\n",
       "\n",
       "    .colab-df-convert:hover {\n",
       "      background-color: #E2EBFA;\n",
       "      box-shadow: 0px 1px 2px rgba(60, 64, 67, 0.3), 0px 1px 3px 1px rgba(60, 64, 67, 0.15);\n",
       "      fill: #174EA6;\n",
       "    }\n",
       "\n",
       "    .colab-df-buttons div {\n",
       "      margin-bottom: 4px;\n",
       "    }\n",
       "\n",
       "    [theme=dark] .colab-df-convert {\n",
       "      background-color: #3B4455;\n",
       "      fill: #D2E3FC;\n",
       "    }\n",
       "\n",
       "    [theme=dark] .colab-df-convert:hover {\n",
       "      background-color: #434B5C;\n",
       "      box-shadow: 0px 1px 3px 1px rgba(0, 0, 0, 0.15);\n",
       "      filter: drop-shadow(0px 1px 2px rgba(0, 0, 0, 0.3));\n",
       "      fill: #FFFFFF;\n",
       "    }\n",
       "  </style>\n",
       "\n",
       "    <script>\n",
       "      const buttonEl =\n",
       "        document.querySelector('#df-452eaef2-bf21-4a83-ac59-244f1291991f button.colab-df-convert');\n",
       "      buttonEl.style.display =\n",
       "        google.colab.kernel.accessAllowed ? 'block' : 'none';\n",
       "\n",
       "      async function convertToInteractive(key) {\n",
       "        const element = document.querySelector('#df-452eaef2-bf21-4a83-ac59-244f1291991f');\n",
       "        const dataTable =\n",
       "          await google.colab.kernel.invokeFunction('convertToInteractive',\n",
       "                                                    [key], {});\n",
       "        if (!dataTable) return;\n",
       "\n",
       "        const docLinkHtml = 'Like what you see? Visit the ' +\n",
       "          '<a target=\"_blank\" href=https://colab.research.google.com/notebooks/data_table.ipynb>data table notebook</a>'\n",
       "          + ' to learn more about interactive tables.';\n",
       "        element.innerHTML = '';\n",
       "        dataTable['output_type'] = 'display_data';\n",
       "        await google.colab.output.renderOutput(dataTable, element);\n",
       "        const docLink = document.createElement('div');\n",
       "        docLink.innerHTML = docLinkHtml;\n",
       "        element.appendChild(docLink);\n",
       "      }\n",
       "    </script>\n",
       "  </div>\n",
       "\n",
       "\n",
       "<div id=\"df-14e76dd4-6df2-4261-afdd-df3537668961\">\n",
       "  <button class=\"colab-df-quickchart\" onclick=\"quickchart('df-14e76dd4-6df2-4261-afdd-df3537668961')\"\n",
       "            title=\"Suggest charts\"\n",
       "            style=\"display:none;\">\n",
       "\n",
       "<svg xmlns=\"http://www.w3.org/2000/svg\" height=\"24px\"viewBox=\"0 0 24 24\"\n",
       "     width=\"24px\">\n",
       "    <g>\n",
       "        <path d=\"M19 3H5c-1.1 0-2 .9-2 2v14c0 1.1.9 2 2 2h14c1.1 0 2-.9 2-2V5c0-1.1-.9-2-2-2zM9 17H7v-7h2v7zm4 0h-2V7h2v10zm4 0h-2v-4h2v4z\"/>\n",
       "    </g>\n",
       "</svg>\n",
       "  </button>\n",
       "\n",
       "<style>\n",
       "  .colab-df-quickchart {\n",
       "      --bg-color: #E8F0FE;\n",
       "      --fill-color: #1967D2;\n",
       "      --hover-bg-color: #E2EBFA;\n",
       "      --hover-fill-color: #174EA6;\n",
       "      --disabled-fill-color: #AAA;\n",
       "      --disabled-bg-color: #DDD;\n",
       "  }\n",
       "\n",
       "  [theme=dark] .colab-df-quickchart {\n",
       "      --bg-color: #3B4455;\n",
       "      --fill-color: #D2E3FC;\n",
       "      --hover-bg-color: #434B5C;\n",
       "      --hover-fill-color: #FFFFFF;\n",
       "      --disabled-bg-color: #3B4455;\n",
       "      --disabled-fill-color: #666;\n",
       "  }\n",
       "\n",
       "  .colab-df-quickchart {\n",
       "    background-color: var(--bg-color);\n",
       "    border: none;\n",
       "    border-radius: 50%;\n",
       "    cursor: pointer;\n",
       "    display: none;\n",
       "    fill: var(--fill-color);\n",
       "    height: 32px;\n",
       "    padding: 0;\n",
       "    width: 32px;\n",
       "  }\n",
       "\n",
       "  .colab-df-quickchart:hover {\n",
       "    background-color: var(--hover-bg-color);\n",
       "    box-shadow: 0 1px 2px rgba(60, 64, 67, 0.3), 0 1px 3px 1px rgba(60, 64, 67, 0.15);\n",
       "    fill: var(--button-hover-fill-color);\n",
       "  }\n",
       "\n",
       "  .colab-df-quickchart-complete:disabled,\n",
       "  .colab-df-quickchart-complete:disabled:hover {\n",
       "    background-color: var(--disabled-bg-color);\n",
       "    fill: var(--disabled-fill-color);\n",
       "    box-shadow: none;\n",
       "  }\n",
       "\n",
       "  .colab-df-spinner {\n",
       "    border: 2px solid var(--fill-color);\n",
       "    border-color: transparent;\n",
       "    border-bottom-color: var(--fill-color);\n",
       "    animation:\n",
       "      spin 1s steps(1) infinite;\n",
       "  }\n",
       "\n",
       "  @keyframes spin {\n",
       "    0% {\n",
       "      border-color: transparent;\n",
       "      border-bottom-color: var(--fill-color);\n",
       "      border-left-color: var(--fill-color);\n",
       "    }\n",
       "    20% {\n",
       "      border-color: transparent;\n",
       "      border-left-color: var(--fill-color);\n",
       "      border-top-color: var(--fill-color);\n",
       "    }\n",
       "    30% {\n",
       "      border-color: transparent;\n",
       "      border-left-color: var(--fill-color);\n",
       "      border-top-color: var(--fill-color);\n",
       "      border-right-color: var(--fill-color);\n",
       "    }\n",
       "    40% {\n",
       "      border-color: transparent;\n",
       "      border-right-color: var(--fill-color);\n",
       "      border-top-color: var(--fill-color);\n",
       "    }\n",
       "    60% {\n",
       "      border-color: transparent;\n",
       "      border-right-color: var(--fill-color);\n",
       "    }\n",
       "    80% {\n",
       "      border-color: transparent;\n",
       "      border-right-color: var(--fill-color);\n",
       "      border-bottom-color: var(--fill-color);\n",
       "    }\n",
       "    90% {\n",
       "      border-color: transparent;\n",
       "      border-bottom-color: var(--fill-color);\n",
       "    }\n",
       "  }\n",
       "</style>\n",
       "\n",
       "  <script>\n",
       "    async function quickchart(key) {\n",
       "      const quickchartButtonEl =\n",
       "        document.querySelector('#' + key + ' button');\n",
       "      quickchartButtonEl.disabled = true;  // To prevent multiple clicks.\n",
       "      quickchartButtonEl.classList.add('colab-df-spinner');\n",
       "      try {\n",
       "        const charts = await google.colab.kernel.invokeFunction(\n",
       "            'suggestCharts', [key], {});\n",
       "      } catch (error) {\n",
       "        console.error('Error during call to suggestCharts:', error);\n",
       "      }\n",
       "      quickchartButtonEl.classList.remove('colab-df-spinner');\n",
       "      quickchartButtonEl.classList.add('colab-df-quickchart-complete');\n",
       "    }\n",
       "    (() => {\n",
       "      let quickchartButtonEl =\n",
       "        document.querySelector('#df-14e76dd4-6df2-4261-afdd-df3537668961 button');\n",
       "      quickchartButtonEl.style.display =\n",
       "        google.colab.kernel.accessAllowed ? 'block' : 'none';\n",
       "    })();\n",
       "  </script>\n",
       "</div>\n",
       "\n",
       "    </div>\n",
       "  </div>\n"
      ],
      "text/plain": [
       "    LYLTY_CARD_NBR              LIFESTAGE PREMIUM_CUSTOMER       DATE  \\\n",
       "0             1000  YOUNG SINGLES/COUPLES          Premium 2018-10-17   \n",
       "8             1009           NEW FAMILIES          Premium 2018-11-20   \n",
       "30            1024  YOUNG SINGLES/COUPLES          Premium 2019-02-20   \n",
       "41            1042  YOUNG SINGLES/COUPLES          Premium 2018-07-21   \n",
       "42            1042  YOUNG SINGLES/COUPLES          Premium 2019-02-12   \n",
       "\n",
       "    STORE_NBR  TXN_ID  PROD_NBR          PROD_NAME  PROD_QTY  TOT_SALES  \\\n",
       "0           1       1         5  chipcompnyseasalt         2        6.0   \n",
       "8           1       9        20      cheesesupreme         1        5.7   \n",
       "30          1      31         5  chipcompnyseasalt         1        3.0   \n",
       "41          1      45        94              rings         1        2.3   \n",
       "42          1      46        63      swtpotseasalt         1        4.2   \n",
       "\n",
       "   PACK_SIZE_GRAMS    BRAND FLAVOURS  \n",
       "0              NaN  Natural  seasalt  \n",
       "8              NaN  Doritos   Cheese  \n",
       "30             NaN  Natural  seasalt  \n",
       "41             NaN   Burger   Cheese  \n",
       "42             NaN   Kettle  seasalt  "
      ]
     },
     "execution_count": 34,
     "metadata": {},
     "output_type": "execute_result"
    }
   ],
   "source": [
    "# Create a new dataframe for the target customer group\n",
    "target_df = df[(df.PREMIUM_CUSTOMER == 'Premium')]\n",
    "target_df = target_df[(df.LIFESTAGE == 'YOUNG SINGLES/COUPLES')|\n",
    "                      (df.LIFESTAGE == 'NEW FAMILIES')]\n",
    "\n",
    "# Look at the first five rows of target_df\n",
    "target_df.head()"
   ]
  },
  {
   "cell_type": "markdown",
   "metadata": {
    "id": "6BCP59aNeqBi"
   },
   "source": [
    "### **Identifying the target chip flavours and brands to market**\n",
    "\n",
    "In order to effectively target our target group, the supermarket should first understand how the different chip flavours and brands are perceived by our target group. We will create perceptual charts to illustrate how the top 15 flavours and brands based on purchase frequency compare with each other."
   ]
  },
  {
   "cell_type": "code",
   "execution_count": 35,
   "metadata": {
    "colab": {
     "base_uri": "https://localhost:8080/",
     "height": 727
    },
    "executionInfo": {
     "elapsed": 588,
     "status": "ok",
     "timestamp": 1704505698491,
     "user": {
      "displayName": "CHRISTI MARIAM DENNY",
      "userId": "07385360295014298325"
     },
     "user_tz": 480
    },
    "id": "gFAc2Yfb8Eo4",
    "outputId": "3a4eeea6-42d5-4bac-d9c1-728cf1a6aff2"
   },
   "outputs": [
    {
     "data": {
      "image/png": "[encoded data removed]",
      "text/plain": [
       "<Figure size 800x800 with 1 Axes>"
      ]
     },
     "metadata": {},
     "output_type": "display_data"
    }
   ],
   "source": [
    "np. random.seed(123)\n",
    "# Get the top 15 flavors based on purchase count\n",
    "top_flavors = target_df.groupby('FLAVOURS').size().nlargest(15).index\n",
    "\n",
    "# Filter the original dataframe to include only the top 15 flavors\n",
    "df_top_flavors = target_df[target_df['FLAVOURS'].isin(top_flavors)]\n",
    "\n",
    "# Group the data by 'FLAVOURS' to get the sum of 'TOT_SALES' and the average of 'PROD_QTY'\n",
    "flavor_sales_qty = df_top_flavors.groupby('FLAVOURS').agg({\n",
    "    'TOT_SALES': 'sum',     # Total sales for each flavor\n",
    "    'PROD_QTY': 'mean',     # Average product quantity for each flavor\n",
    "}).reset_index()\n",
    "\n",
    "# Convert flavors to dummy variables\n",
    "flavours_df = pd.get_dummies(flavor_sales_qty['FLAVOURS'], prefix='FLAVOUR')\n",
    "\n",
    "# Standardize the data\n",
    "scaler = StandardScaler()\n",
    "flavours_standardized = scaler.fit_transform(flavor_sales_qty[['TOT_SALES', 'PROD_QTY']])\n",
    "\n",
    "# Apply PCA\n",
    "pca = PCA(n_components=2)\n",
    "flavours_pca = pca.fit_transform(flavours_standardized)\n",
    "\n",
    "# Create a new DataFrame with PCA results\n",
    "pca_df = pd.DataFrame(flavours_pca, columns=['PC1', 'PC2'])\n",
    "pca_df['FLAVOURS'] = flavor_sales_qty['FLAVOURS']\n",
    "\n",
    "# Plot the perceptual map\n",
    "plt.figure(figsize=(8, 8))\n",
    "\n",
    "# Scatter plot with marker size based on total revenue\n",
    "for flavour in pca_df['FLAVOURS'].unique():\n",
    "    subset = pca_df[pca_df['FLAVOURS'] == flavour]\n",
    "    total_sales = flavor_sales_qty[flavor_sales_qty['FLAVOURS'] == flavour]['TOT_SALES'].iloc[0]\n",
    "    size = total_sales * 0.4 # Adjust the size scaling factor as needed\n",
    "    plt.scatter(subset['PC1'], subset['PC2'], label=flavour, s=size, alpha=0.7)\n",
    "\n",
    "# Add labels and title\n",
    "plt.title('Perceptual map of the top 15 chip flavours')\n",
    "plt.xlabel('Sales')\n",
    "plt.ylabel('Uniqueness')\n",
    "\n",
    "# Annotate each point with its flavor\n",
    "for i, flavour in enumerate(pca_df['FLAVOURS']):\n",
    "    plt.annotate(flavour, (pca_df['PC1'].iloc[i], pca_df['PC2'].iloc[i]), textcoords=\"offset points\", xytext=(5,5), ha='center')\n",
    "\n",
    "# Show x and y axes at 0\n",
    "plt.axhline(0, color='black', linestyle='--', linewidth=0.8)\n",
    "plt.axvline(0, color='black', linestyle='--', linewidth=0.8)\n",
    "\n",
    "# Show the plot\n",
    "plt.show()"
   ]
  },
  {
   "cell_type": "code",
   "execution_count": 36,
   "metadata": {
    "colab": {
     "base_uri": "https://localhost:8080/",
     "height": 727
    },
    "executionInfo": {
     "elapsed": 280,
     "status": "ok",
     "timestamp": 1704505698765,
     "user": {
      "displayName": "CHRISTI MARIAM DENNY",
      "userId": "07385360295014298325"
     },
     "user_tz": 480
    },
    "id": "MmiPs4xr2tM5",
    "outputId": "12ef9b84-1760-460f-977c-ad4fbb917142"
   },
   "outputs": [
    {
     "data": {
      "image/png": "[encoded data removed]",
      "text/plain": [
       "<Figure size 800x800 with 1 Axes>"
      ]
     },
     "metadata": {},
     "output_type": "display_data"
    }
   ],
   "source": [
    "# Get the top 15 flavors based on purchase count\n",
    "top_brands = target_df.groupby('BRAND').size().nlargest(15).index\n",
    "\n",
    "# Filter the original dataframe to include only the top 15 flavors\n",
    "df_top_brands = target_df[target_df['BRAND'].isin(top_brands)]\n",
    "\n",
    "# Group the data by 'FLAVOURS' to get the sum of 'TOT_SALES' and the average of 'PROD_QTY'\n",
    "brands_sales_qty = df_top_brands.groupby('BRAND').agg({\n",
    "    'TOT_SALES': 'sum',     # Total sales for each flavor\n",
    "    'PROD_QTY': 'mean',     # Average product quantity for each flavor\n",
    "}).reset_index()\n",
    "\n",
    "# Convert flavors to dummy variables\n",
    "brands_df = pd.get_dummies(brands_sales_qty['BRAND'], prefix='BRAND')\n",
    "\n",
    "# Standardize the data\n",
    "scaler = StandardScaler()\n",
    "brands_standardized = scaler.fit_transform(brands_sales_qty[['TOT_SALES', 'PROD_QTY']])\n",
    "\n",
    "# Apply PCA\n",
    "pca = PCA(n_components=2)\n",
    "brands_pca = pca.fit_transform(brands_standardized)\n",
    "\n",
    "# Create a new DataFrame with PCA results\n",
    "pca_df = pd.DataFrame(brands_pca, columns=['PC1', 'PC2'])\n",
    "pca_df['BRAND'] = brands_sales_qty['BRAND']\n",
    "\n",
    "# Plot the perceptual map\n",
    "plt.figure(figsize=(8,8))\n",
    "\n",
    "# Scatter plot with marker size based on total revenue\n",
    "for brand in pca_df['BRAND'].unique():\n",
    "    subset = pca_df[pca_df['BRAND'] == brand]\n",
    "    total_sales = brands_sales_qty[brands_sales_qty['BRAND'] == brand]['TOT_SALES'].iloc[0]\n",
    "    size = total_sales * 0.4\n",
    "    plt.scatter(subset['PC1'], subset['PC2'], label=brand, s=size, alpha=0.5)\n",
    "\n",
    "# Add labels and title\n",
    "plt.title('Perceptual map of the top 15 chip brands')\n",
    "plt.xlabel('Sales')\n",
    "plt.ylabel('Uniqueness')\n",
    "\n",
    "# Annotate each point with its flavor\n",
    "for i, brand in enumerate(pca_df['BRAND']):\n",
    "    plt.annotate(brand, (pca_df['PC1'].iloc[i], pca_df['PC2'].iloc[i]), textcoords=\"offset points\", xytext=(5,5), ha='center')\n",
    "\n",
    "# Show x and y axes at 0\n",
    "plt.axhline(0, color='black', linestyle='--', linewidth=0.8)\n",
    "plt.axvline(0, color='black', linestyle='--', linewidth=0.8)\n",
    "\n",
    "# Show the plot\n",
    "plt.show()"
   ]
  },
  {
   "cell_type": "markdown",
   "metadata": {
    "id": "jbuEZ6lRfowm"
   },
   "source": [
    "### **Identifying the preferred pack size**\n",
    "\n",
    "The last chip product characteristic the supermarket can consider in their marketing strategy is pack size. We can count the most popular pack sizes purchased by our target group."
   ]
  },
  {
   "cell_type": "code",
   "execution_count": 37,
   "metadata": {
    "colab": {
     "base_uri": "https://localhost:8080/",
     "height": 417
    },
    "executionInfo": {
     "elapsed": 8,
     "status": "error",
     "timestamp": 1704505698765,
     "user": {
      "displayName": "CHRISTI MARIAM DENNY",
      "userId": "07385360295014298325"
     },
     "user_tz": 480
    },
    "id": "srVkqWLxfoNI",
    "outputId": "2717318a-48e0-4f9d-eeff-dfb9a96aeaf0"
   },
   "outputs": [
    {
     "ename": "ValueError",
     "evalue": "min() arg is an empty sequence",
     "output_type": "error",
     "traceback": [
      "\u001b[0;31m---------------------------------------------------------------------------\u001b[0m",
      "\u001b[0;31mValueError\u001b[0m                                Traceback (most recent call last)",
      "\u001b[0;32m<ipython-input-37-7f5c99ae597e>\u001b[0m in \u001b[0;36m<cell line: 6>\u001b[0;34m()\u001b[0m\n\u001b[1;32m      4\u001b[0m \u001b[0;31m# Create a bar plot to visualize the above grouped dataframe\u001b[0m\u001b[0;34m\u001b[0m\u001b[0;34m\u001b[0m\u001b[0m\n\u001b[1;32m      5\u001b[0m \u001b[0mplt\u001b[0m\u001b[0;34m.\u001b[0m\u001b[0mfigure\u001b[0m\u001b[0;34m(\u001b[0m\u001b[0mfigsize\u001b[0m\u001b[0;34m=\u001b[0m\u001b[0;34m(\u001b[0m\u001b[0;36m8\u001b[0m\u001b[0;34m,\u001b[0m \u001b[0;36m4\u001b[0m\u001b[0;34m)\u001b[0m\u001b[0;34m)\u001b[0m\u001b[0;34m\u001b[0m\u001b[0;34m\u001b[0m\u001b[0m\n\u001b[0;32m----> 6\u001b[0;31m \u001b[0msns\u001b[0m\u001b[0;34m.\u001b[0m\u001b[0mbarplot\u001b[0m\u001b[0;34m(\u001b[0m\u001b[0mx\u001b[0m\u001b[0;34m=\u001b[0m\u001b[0;34m'PACK_SIZE_GRAMS'\u001b[0m\u001b[0;34m,\u001b[0m \u001b[0my\u001b[0m\u001b[0;34m=\u001b[0m\u001b[0;34m'PROD_QTY'\u001b[0m\u001b[0;34m,\u001b[0m \u001b[0mdata\u001b[0m\u001b[0;34m=\u001b[0m\u001b[0mpack_df\u001b[0m\u001b[0;34m,\u001b[0m \u001b[0mpalette\u001b[0m\u001b[0;34m=\u001b[0m\u001b[0;34m'Greens'\u001b[0m\u001b[0;34m)\u001b[0m\u001b[0;34m\u001b[0m\u001b[0;34m\u001b[0m\u001b[0m\n\u001b[0m\u001b[1;32m      7\u001b[0m \u001b[0mplt\u001b[0m\u001b[0;34m.\u001b[0m\u001b[0mxlabel\u001b[0m\u001b[0;34m(\u001b[0m\u001b[0;34m'Pack size (grams)'\u001b[0m\u001b[0;34m)\u001b[0m\u001b[0;34m\u001b[0m\u001b[0;34m\u001b[0m\u001b[0m\n\u001b[1;32m      8\u001b[0m \u001b[0mplt\u001b[0m\u001b[0;34m.\u001b[0m\u001b[0mylabel\u001b[0m\u001b[0;34m(\u001b[0m\u001b[0;34m'Total quantity purchased'\u001b[0m\u001b[0;34m)\u001b[0m\u001b[0;34m\u001b[0m\u001b[0;34m\u001b[0m\u001b[0m\n",
      "\u001b[0;32m/usr/local/lib/python3.10/dist-packages/seaborn/categorical.py\u001b[0m in \u001b[0;36mbarplot\u001b[0;34m(data, x, y, hue, order, hue_order, estimator, errorbar, n_boot, units, seed, orient, color, palette, saturation, width, errcolor, errwidth, capsize, dodge, ci, ax, **kwargs)\u001b[0m\n\u001b[1;32m   2753\u001b[0m         \u001b[0mestimator\u001b[0m \u001b[0;34m=\u001b[0m \u001b[0;34m\"size\"\u001b[0m\u001b[0;34m\u001b[0m\u001b[0;34m\u001b[0m\u001b[0m\n\u001b[1;32m   2754\u001b[0m \u001b[0;34m\u001b[0m\u001b[0m\n\u001b[0;32m-> 2755\u001b[0;31m     plotter = _BarPlotter(x, y, hue, data, order, hue_order,\n\u001b[0m\u001b[1;32m   2756\u001b[0m                           \u001b[0mestimator\u001b[0m\u001b[0;34m,\u001b[0m \u001b[0merrorbar\u001b[0m\u001b[0;34m,\u001b[0m \u001b[0mn_boot\u001b[0m\u001b[0;34m,\u001b[0m \u001b[0munits\u001b[0m\u001b[0;34m,\u001b[0m \u001b[0mseed\u001b[0m\u001b[0;34m,\u001b[0m\u001b[0;34m\u001b[0m\u001b[0;34m\u001b[0m\u001b[0m\n\u001b[1;32m   2757\u001b[0m                           \u001b[0morient\u001b[0m\u001b[0;34m,\u001b[0m \u001b[0mcolor\u001b[0m\u001b[0;34m,\u001b[0m \u001b[0mpalette\u001b[0m\u001b[0;34m,\u001b[0m \u001b[0msaturation\u001b[0m\u001b[0;34m,\u001b[0m\u001b[0;34m\u001b[0m\u001b[0;34m\u001b[0m\u001b[0m\n",
      "\u001b[0;32m/usr/local/lib/python3.10/dist-packages/seaborn/categorical.py\u001b[0m in \u001b[0;36m__init__\u001b[0;34m(self, x, y, hue, data, order, hue_order, estimator, errorbar, n_boot, units, seed, orient, color, palette, saturation, width, errcolor, errwidth, capsize, dodge)\u001b[0m\n\u001b[1;32m   1530\u001b[0m         self.establish_variables(x, y, hue, data, orient,\n\u001b[1;32m   1531\u001b[0m                                  order, hue_order, units)\n\u001b[0;32m-> 1532\u001b[0;31m         \u001b[0mself\u001b[0m\u001b[0;34m.\u001b[0m\u001b[0mestablish_colors\u001b[0m\u001b[0;34m(\u001b[0m\u001b[0mcolor\u001b[0m\u001b[0;34m,\u001b[0m \u001b[0mpalette\u001b[0m\u001b[0;34m,\u001b[0m \u001b[0msaturation\u001b[0m\u001b[0;34m)\u001b[0m\u001b[0;34m\u001b[0m\u001b[0;34m\u001b[0m\u001b[0m\n\u001b[0m\u001b[1;32m   1533\u001b[0m         \u001b[0mself\u001b[0m\u001b[0;34m.\u001b[0m\u001b[0mestimate_statistic\u001b[0m\u001b[0;34m(\u001b[0m\u001b[0mestimator\u001b[0m\u001b[0;34m,\u001b[0m \u001b[0merrorbar\u001b[0m\u001b[0;34m,\u001b[0m \u001b[0mn_boot\u001b[0m\u001b[0;34m,\u001b[0m \u001b[0mseed\u001b[0m\u001b[0;34m)\u001b[0m\u001b[0;34m\u001b[0m\u001b[0;34m\u001b[0m\u001b[0m\n\u001b[1;32m   1534\u001b[0m \u001b[0;34m\u001b[0m\u001b[0m\n",
      "\u001b[0;32m/usr/local/lib/python3.10/dist-packages/seaborn/categorical.py\u001b[0m in \u001b[0;36mestablish_colors\u001b[0;34m(self, color, palette, saturation)\u001b[0m\n\u001b[1;32m    705\u001b[0m         \u001b[0;31m# Determine the gray color to use for the lines framing the plot\u001b[0m\u001b[0;34m\u001b[0m\u001b[0;34m\u001b[0m\u001b[0m\n\u001b[1;32m    706\u001b[0m         \u001b[0mlight_vals\u001b[0m \u001b[0;34m=\u001b[0m \u001b[0;34m[\u001b[0m\u001b[0mrgb_to_hls\u001b[0m\u001b[0;34m(\u001b[0m\u001b[0;34m*\u001b[0m\u001b[0mc\u001b[0m\u001b[0;34m)\u001b[0m\u001b[0;34m[\u001b[0m\u001b[0;36m1\u001b[0m\u001b[0;34m]\u001b[0m \u001b[0;32mfor\u001b[0m \u001b[0mc\u001b[0m \u001b[0;32min\u001b[0m \u001b[0mrgb_colors\u001b[0m\u001b[0;34m]\u001b[0m\u001b[0;34m\u001b[0m\u001b[0;34m\u001b[0m\u001b[0m\n\u001b[0;32m--> 707\u001b[0;31m         \u001b[0mlum\u001b[0m \u001b[0;34m=\u001b[0m \u001b[0mmin\u001b[0m\u001b[0;34m(\u001b[0m\u001b[0mlight_vals\u001b[0m\u001b[0;34m)\u001b[0m \u001b[0;34m*\u001b[0m \u001b[0;36m.6\u001b[0m\u001b[0;34m\u001b[0m\u001b[0;34m\u001b[0m\u001b[0m\n\u001b[0m\u001b[1;32m    708\u001b[0m         \u001b[0mgray\u001b[0m \u001b[0;34m=\u001b[0m \u001b[0mmpl\u001b[0m\u001b[0;34m.\u001b[0m\u001b[0mcolors\u001b[0m\u001b[0;34m.\u001b[0m\u001b[0mrgb2hex\u001b[0m\u001b[0;34m(\u001b[0m\u001b[0;34m(\u001b[0m\u001b[0mlum\u001b[0m\u001b[0;34m,\u001b[0m \u001b[0mlum\u001b[0m\u001b[0;34m,\u001b[0m \u001b[0mlum\u001b[0m\u001b[0;34m)\u001b[0m\u001b[0;34m)\u001b[0m\u001b[0;34m\u001b[0m\u001b[0;34m\u001b[0m\u001b[0m\n\u001b[1;32m    709\u001b[0m \u001b[0;34m\u001b[0m\u001b[0m\n",
      "\u001b[0;31mValueError\u001b[0m: min() arg is an empty sequence"
     ]
    },
    {
     "data": {
      "text/plain": [
       "<Figure size 800x400 with 0 Axes>"
      ]
     },
     "metadata": {},
     "output_type": "display_data"
    }
   ],
   "source": [
    "# Group the target dataframe by pack size and display the sum of packs bought\n",
    "pack_df = target_df.groupby('PACK_SIZE_GRAMS')['PROD_QTY'].sum().reset_index()\n",
    "\n",
    "# Create a bar plot to visualize the above grouped dataframe\n",
    "plt.figure(figsize=(8, 4))\n",
    "sns.barplot(x='PACK_SIZE_GRAMS', y='PROD_QTY', data=pack_df, palette='Greens')\n",
    "plt.xlabel('Pack size (grams)')\n",
    "plt.ylabel('Total quantity purchased')\n",
    "plt.title('Total quantity of pack sizes purchased by target group')\n",
    "plt.xticks(rotation=45)\n",
    "plt.show()"
   ]
  },
  {
   "cell_type": "markdown",
   "metadata": {
    "id": "ISuVIHT8hXdy"
   },
   "source": [
    "It is apparent that the most popular pack sizes are 175g, followed by 150g and 134g. These sizes are at the middle of the range of pack sizes."
   ]
  },
  {
   "cell_type": "markdown",
   "metadata": {
    "id": "mapEIxQcWQXH"
   },
   "source": [
    "## **Positioning**\n",
    "We have identified a customer segment that contributes the least to chip revenues, and the chip characteristics that should be used to tailor our marketing strategy for this group.\n",
    "\n",
    "By doing so, we will be able to **position ourselves** as the best supermarket for young singles/couples and new families with premium memberships to buy their most preferred, and the most unique chips."
   ]
  },
  {
   "cell_type": "markdown",
   "metadata": {
    "id": "yYqqPHS_hpr9"
   },
   "source": [
    "# **Marketing Recommendations**\n",
    "Our recommendations will be tailored to our target customer group. As premium members of the supermarket, these customers are already loyal to the company, and the goal of our marketing strategy is to turn them into repeat customers of chips.\n",
    "\n",
    "We will describe how the strategy can cover the four Ps of marketing: Product, Place, Price, and Promotion."
   ]
  },
  {
   "cell_type": "markdown",
   "metadata": {
    "id": "WdyQP7quVd68"
   },
   "source": [
    "## **Product**\n",
    "To enhance sales among our target demographics of new families and young singles/couples, we propose the following marketing strategies:\n",
    "\n",
    "Our target demographic has a strong affinity for salsa-flavored chips,  favoring the Tostito brand, and in the 175-gram pack size. Based on this insight, we strongly advocate for expanding our chip inventory to include more options that align with these preferred characteristics. Our proposed expansion innvolves introducing an array of salsa-flavored chips, maintaining the Tostito brand, and catering to the desired 175-gram pack size.\n",
    "\n",
    "Moreover, we recommend to diversify offerings by incorporating various textures of chips and an assortment of salsa-flavored dips. This strategic move is aimed at accommodating the diverse and nuanced preferences prevalent among our customer base.\n",
    "\n",
    "In providing this expanded range, we aim to meet the varying tastes and demands of our customers, ensuring a comprehensive selection that resonates with their individual preferences within the salsa-flavored chips category, thereby appealing to a broader audience within our target groups of new families and young singles/couples.\n",
    "\n"
   ]
  },
  {
   "cell_type": "markdown",
   "metadata": {
    "id": "yKHiPHZEXe8y"
   },
   "source": [
    "## **Place**"
   ]
  },
  {
   "cell_type": "markdown",
   "metadata": {
    "id": "4fnb9YbY50hn"
   },
   "source": [
    "We can strategically position our promoted chip flavors at the point-of-sale. These flavors will be the first and last thing customers see, creating a powerful impression.\n",
    "\n",
    "Additionally, we can employ eye-level placement for these flavors so that they capture immediate attention."
   ]
  },
  {
   "cell_type": "markdown",
   "metadata": {
    "id": "V_zmjH9gXhN8"
   },
   "source": [
    "## **Price**\n",
    "\n"
   ]
  },
  {
   "cell_type": "markdown",
   "metadata": {
    "id": "_YA3GEDx6ASf"
   },
   "source": [
    "We've devised some clever strategies to entice our premium customers and drive sales.\n",
    "\n",
    "Firstly, we can introduce special deals like – 'Buy 2 or more for $3.49 each and save $0.51 each'. This not only encourages customers to buy more but also provides a perceived value that's hard to resist.\n",
    "\n",
    "Secondly, for our premium customers, we can offer an exclusive discounted price.\n",
    "\n",
    "Lastly, we can implement a loyalty points system for chip purchases. Accumulated points can be redeemed for cash in the future which will give an additional incentive for customers to choose our store for their chip needs."
   ]
  },
  {
   "cell_type": "markdown",
   "metadata": {
    "id": "08j54LkGXi_m"
   },
   "source": [
    "## **Promotion**\n",
    "\n",
    "### Promotion Strategy 1: Gold-Colored Labels for Premium Members\n",
    "\n",
    "In order to effectively target and engage Premium membership holders within the New Families and Young Single/Couples segments, we propose the implementation of distinctive gold-colored labels on the supermarket shelves. These labels will signify special premium member pricing for chip products, creating a visually appealing and exclusive shopping experience for our targeted audience.\n",
    "\n",
    "Implementation:\n",
    "\n",
    "Visual Distinction: Gold-colored labels will be strategically placed on the aisles featuring chip products. This visual distinction will immediately catch the attention of Premium members, guiding them to a dedicated section with exclusive pricing.\n",
    "\n",
    "Informative Signage: Complementing the gold labels, informative signage will communicate the exclusive benefits of Premium membership, reinforcing the idea that these products are tailored specifically for them.\n",
    "Benefits:\n",
    "\n",
    "Enhanced Visibility: The gold-colored labels create a standout visual appeal, attracting the attention of Premium members and reinforcing a sense of exclusivity.\n",
    "\n",
    "Incentivized Purchases: Premium member pricing serves as a strong incentive for our target audience to choose chip products from the labeled section, potentially increasing both sales and quantity purchased.\n",
    "\n",
    "Loyalty Building: The strategy not only drives immediate sales but also contributes to long-term loyalty by associating the Premium membership with special privileges and savings.\n",
    "\n",
    "### Promotion Strategy 2: \"My Offers\" Tab on Mobile App for Targeted Deals\n",
    "\n",
    "To further engage and cater to the preferences of Premium members within the New Families and Young Single/Couples segments, we recommend leveraging the \"My Offers\" tab on the supermarket's mobile application. This personalized approach will provide targeted deals and offers on chip products, creating a seamless and convenient shopping experience for our identified audience.\n",
    "\n",
    "Implementation:\n",
    "\n",
    "Personalized Notifications: Premium members will receive personalized notifications through the mobile app's \"My Offers\" tab, alerting them to exclusive deals on chip products tailored to their preferences and purchase history.\n",
    "Unlockable Offers: Users can unlock special offers by engaging with the app, such as making repeat purchases, participating in surveys, or referring friends. This gamified approach encourages continued app interaction and loyalty.\n",
    "\n",
    "Limited-Time Promotions: To instill a sense of urgency, time-sensitive promotions will be featured, prompting Premium members to take advantage of the exclusive deals on chip products within a specified timeframe.\n",
    "Benefits:\n",
    "\n",
    "Personalized Shopping Experience: The \"My Offers\" tab provides a personalized space for Premium members, enhancing their overall shopping experience by tailoring promotions to their specific chip preferences.\n",
    "Increased App Engagement: The strategy promotes sustained engagement with the mobile app, fostering a deeper connection with the brand and potentially influencing future purchasing decisions.\n",
    "\n",
    "Urgency and Exclusivity: Limited-time promotions create a sense of urgency and exclusivity, encouraging Premium members to actively participate in unlocking and redeeming special offers.\n",
    "\n",
    "By combining these two promotion strategies, the supermarket aims to not only drive immediate sales but also build a lasting relationship with Premium members in the New Families and Young Single/Couples segments, ultimately maximizing the impact of the marketing campaign."
   ]
  },
  {
   "cell_type": "markdown",
   "metadata": {
    "id": "AyEJqMAeKM2a"
   },
   "source": [
    "## **Conclusion**\n",
    "\n",
    "With our Premium members already being devoted customers, we see an exciting opportunity to boost sales within this group. Hence forming the foundation of our lower-funnel marketing approach by creating a dedicated shopping space with visually appealing gold-coloured labels and offering personalized deals through our mobile app, we aim not only to meet but exceed the expectations of our Premium members.\n",
    "\n",
    "To assess the effectiveness of our marketing strategy, we will conduct a comprehensive pre- and post-marketing analysis. We will meticulously analyse the KPIs like click-through and concversion rate of our offers and notifications from the app or redeeming the offers on the isles and buying multiple bags to avail discounts etc.\n",
    "\n",
    "In essence, this lower-funnel marketing strategy not only aims to boost sales within our Premium membership holder segments but also positions our supermarket as a brand that understands and caters to the unique needs and preferences of our valued customers.\n"
   ]
  },
  {
   "cell_type": "code",
   "execution_count": null,
   "metadata": {
    "executionInfo": {
     "elapsed": 6,
     "status": "aborted",
     "timestamp": 1704505698765,
     "user": {
      "displayName": "CHRISTI MARIAM DENNY",
      "userId": "07385360295014298325"
     },
     "user_tz": 480
    },
    "id": "6jQPkjMbKhyb"
   },
   "outputs": [],
   "source": []
  }
 ],
 "metadata": {
  "colab": {
   "provenance": []
  },
  "kernelspec": {
   "display_name": "Python 3 (ipykernel)",
   "language": "python",
   "name": "python3"
  },
  "language_info": {
   "codemirror_mode": {
    "name": "ipython",
    "version": 3
   },
   "file_extension": ".py",
   "mimetype": "text/x-python",
   "name": "python",
   "nbconvert_exporter": "python",
   "pygments_lexer": "ipython3",
   "version": "3.11.4"
  }
 },
 "nbformat": 4,
 "nbformat_minor": 1
}
